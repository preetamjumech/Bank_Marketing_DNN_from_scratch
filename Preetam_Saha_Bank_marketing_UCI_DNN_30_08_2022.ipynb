{
  "nbformat": 4,
  "nbformat_minor": 0,
  "metadata": {
    "colab": {
      "name": "Preetam_Saha_Bank_marketing_UCI_DNN_30.08.2022.ipynb",
      "provenance": [],
      "collapsed_sections": [],
      "authorship_tag": "ABX9TyN67qzEGZ2ik2V0RNP74yoN",
      "include_colab_link": true
    },
    "kernelspec": {
      "name": "python3",
      "display_name": "Python 3"
    },
    "language_info": {
      "name": "python"
    },
    "accelerator": "GPU",
    "gpuClass": "standard"
  },
  "cells": [
    {
      "cell_type": "markdown",
      "metadata": {
        "id": "view-in-github",
        "colab_type": "text"
      },
      "source": [
        "<a href=\"https://colab.research.google.com/github/preetamjumech/Banking_Data_DNN_from_scratch/blob/main/Preetam_Saha_Bank_marketing_UCI_DNN_30_08_2022.ipynb\" target=\"_parent\"><img src=\"https://colab.research.google.com/assets/colab-badge.svg\" alt=\"Open In Colab\"/></a>"
      ]
    },
    {
      "cell_type": "code",
      "execution_count": 55,
      "metadata": {
        "id": "AnSALZZ09A8D"
      },
      "outputs": [],
      "source": [
        "import numpy as np\n",
        "import pandas as pd\n",
        "import matplotlib.pyplot as plt\n",
        "import warnings\n",
        "warnings.filterwarnings(\"ignore\")"
      ]
    },
    {
      "cell_type": "code",
      "source": [
        "!wget https://archive.ics.uci.edu/ml/machine-learning-databases/00222/bank.zip"
      ],
      "metadata": {
        "colab": {
          "base_uri": "https://localhost:8080/"
        },
        "id": "gwzyYKNk_MvE",
        "outputId": "d23a35f1-d05e-499c-d461-6dab0c79fbb1"
      },
      "execution_count": 56,
      "outputs": [
        {
          "output_type": "stream",
          "name": "stdout",
          "text": [
            "--2022-08-30 16:24:36--  https://archive.ics.uci.edu/ml/machine-learning-databases/00222/bank.zip\n",
            "Resolving archive.ics.uci.edu (archive.ics.uci.edu)... 128.195.10.252\n",
            "Connecting to archive.ics.uci.edu (archive.ics.uci.edu)|128.195.10.252|:443... connected.\n",
            "HTTP request sent, awaiting response... 200 OK\n",
            "Length: 579043 (565K) [application/x-httpd-php]\n",
            "Saving to: ‘bank.zip.1’\n",
            "\n",
            "bank.zip.1          100%[===================>] 565.47K   653KB/s    in 0.9s    \n",
            "\n",
            "2022-08-30 16:24:38 (653 KB/s) - ‘bank.zip.1’ saved [579043/579043]\n",
            "\n"
          ]
        }
      ]
    },
    {
      "cell_type": "code",
      "source": [
        "!unzip \"/content/bank.zip\""
      ],
      "metadata": {
        "colab": {
          "base_uri": "https://localhost:8080/"
        },
        "id": "0dG-QwiX_bOT",
        "outputId": "be40d158-4b41-44d6-86bc-ca803c5f0ba5"
      },
      "execution_count": 57,
      "outputs": [
        {
          "output_type": "stream",
          "name": "stdout",
          "text": [
            "Archive:  /content/bank.zip\n",
            "replace bank-full.csv? [y]es, [n]o, [A]ll, [N]one, [r]ename: y\n",
            "  inflating: bank-full.csv           \n",
            "replace bank-names.txt? [y]es, [n]o, [A]ll, [N]one, [r]ename: y\n",
            "  inflating: bank-names.txt          \n",
            "replace bank.csv? [y]es, [n]o, [A]ll, [N]one, [r]ename: y\n",
            "  inflating: bank.csv                \n"
          ]
        }
      ]
    },
    {
      "cell_type": "code",
      "source": [
        "df = pd.read_csv(\"bank-full.csv\",sep=\";\")\n",
        "df.shape"
      ],
      "metadata": {
        "colab": {
          "base_uri": "https://localhost:8080/"
        },
        "id": "Xl_6bhT0_3RY",
        "outputId": "0f4e07ba-179b-4184-d3ed-6cd7851be456"
      },
      "execution_count": 58,
      "outputs": [
        {
          "output_type": "execute_result",
          "data": {
            "text/plain": [
              "(45211, 17)"
            ]
          },
          "metadata": {},
          "execution_count": 58
        }
      ]
    },
    {
      "cell_type": "code",
      "source": [
        "df.head()"
      ],
      "metadata": {
        "colab": {
          "base_uri": "https://localhost:8080/",
          "height": 250
        },
        "id": "pQIw29E2Bst6",
        "outputId": "fcaa4b5a-0cc7-4eb8-838c-e106e273c399"
      },
      "execution_count": 59,
      "outputs": [
        {
          "output_type": "execute_result",
          "data": {
            "text/plain": [
              "   age           job  marital  education default  balance housing loan  \\\n",
              "0   58    management  married   tertiary      no     2143     yes   no   \n",
              "1   44    technician   single  secondary      no       29     yes   no   \n",
              "2   33  entrepreneur  married  secondary      no        2     yes  yes   \n",
              "3   47   blue-collar  married    unknown      no     1506     yes   no   \n",
              "4   33       unknown   single    unknown      no        1      no   no   \n",
              "\n",
              "   contact  day month  duration  campaign  pdays  previous poutcome   y  \n",
              "0  unknown    5   may       261         1     -1         0  unknown  no  \n",
              "1  unknown    5   may       151         1     -1         0  unknown  no  \n",
              "2  unknown    5   may        76         1     -1         0  unknown  no  \n",
              "3  unknown    5   may        92         1     -1         0  unknown  no  \n",
              "4  unknown    5   may       198         1     -1         0  unknown  no  "
            ],
            "text/html": [
              "\n",
              "  <div id=\"df-5d13ad25-6153-4106-b1b8-571013548eba\">\n",
              "    <div class=\"colab-df-container\">\n",
              "      <div>\n",
              "<style scoped>\n",
              "    .dataframe tbody tr th:only-of-type {\n",
              "        vertical-align: middle;\n",
              "    }\n",
              "\n",
              "    .dataframe tbody tr th {\n",
              "        vertical-align: top;\n",
              "    }\n",
              "\n",
              "    .dataframe thead th {\n",
              "        text-align: right;\n",
              "    }\n",
              "</style>\n",
              "<table border=\"1\" class=\"dataframe\">\n",
              "  <thead>\n",
              "    <tr style=\"text-align: right;\">\n",
              "      <th></th>\n",
              "      <th>age</th>\n",
              "      <th>job</th>\n",
              "      <th>marital</th>\n",
              "      <th>education</th>\n",
              "      <th>default</th>\n",
              "      <th>balance</th>\n",
              "      <th>housing</th>\n",
              "      <th>loan</th>\n",
              "      <th>contact</th>\n",
              "      <th>day</th>\n",
              "      <th>month</th>\n",
              "      <th>duration</th>\n",
              "      <th>campaign</th>\n",
              "      <th>pdays</th>\n",
              "      <th>previous</th>\n",
              "      <th>poutcome</th>\n",
              "      <th>y</th>\n",
              "    </tr>\n",
              "  </thead>\n",
              "  <tbody>\n",
              "    <tr>\n",
              "      <th>0</th>\n",
              "      <td>58</td>\n",
              "      <td>management</td>\n",
              "      <td>married</td>\n",
              "      <td>tertiary</td>\n",
              "      <td>no</td>\n",
              "      <td>2143</td>\n",
              "      <td>yes</td>\n",
              "      <td>no</td>\n",
              "      <td>unknown</td>\n",
              "      <td>5</td>\n",
              "      <td>may</td>\n",
              "      <td>261</td>\n",
              "      <td>1</td>\n",
              "      <td>-1</td>\n",
              "      <td>0</td>\n",
              "      <td>unknown</td>\n",
              "      <td>no</td>\n",
              "    </tr>\n",
              "    <tr>\n",
              "      <th>1</th>\n",
              "      <td>44</td>\n",
              "      <td>technician</td>\n",
              "      <td>single</td>\n",
              "      <td>secondary</td>\n",
              "      <td>no</td>\n",
              "      <td>29</td>\n",
              "      <td>yes</td>\n",
              "      <td>no</td>\n",
              "      <td>unknown</td>\n",
              "      <td>5</td>\n",
              "      <td>may</td>\n",
              "      <td>151</td>\n",
              "      <td>1</td>\n",
              "      <td>-1</td>\n",
              "      <td>0</td>\n",
              "      <td>unknown</td>\n",
              "      <td>no</td>\n",
              "    </tr>\n",
              "    <tr>\n",
              "      <th>2</th>\n",
              "      <td>33</td>\n",
              "      <td>entrepreneur</td>\n",
              "      <td>married</td>\n",
              "      <td>secondary</td>\n",
              "      <td>no</td>\n",
              "      <td>2</td>\n",
              "      <td>yes</td>\n",
              "      <td>yes</td>\n",
              "      <td>unknown</td>\n",
              "      <td>5</td>\n",
              "      <td>may</td>\n",
              "      <td>76</td>\n",
              "      <td>1</td>\n",
              "      <td>-1</td>\n",
              "      <td>0</td>\n",
              "      <td>unknown</td>\n",
              "      <td>no</td>\n",
              "    </tr>\n",
              "    <tr>\n",
              "      <th>3</th>\n",
              "      <td>47</td>\n",
              "      <td>blue-collar</td>\n",
              "      <td>married</td>\n",
              "      <td>unknown</td>\n",
              "      <td>no</td>\n",
              "      <td>1506</td>\n",
              "      <td>yes</td>\n",
              "      <td>no</td>\n",
              "      <td>unknown</td>\n",
              "      <td>5</td>\n",
              "      <td>may</td>\n",
              "      <td>92</td>\n",
              "      <td>1</td>\n",
              "      <td>-1</td>\n",
              "      <td>0</td>\n",
              "      <td>unknown</td>\n",
              "      <td>no</td>\n",
              "    </tr>\n",
              "    <tr>\n",
              "      <th>4</th>\n",
              "      <td>33</td>\n",
              "      <td>unknown</td>\n",
              "      <td>single</td>\n",
              "      <td>unknown</td>\n",
              "      <td>no</td>\n",
              "      <td>1</td>\n",
              "      <td>no</td>\n",
              "      <td>no</td>\n",
              "      <td>unknown</td>\n",
              "      <td>5</td>\n",
              "      <td>may</td>\n",
              "      <td>198</td>\n",
              "      <td>1</td>\n",
              "      <td>-1</td>\n",
              "      <td>0</td>\n",
              "      <td>unknown</td>\n",
              "      <td>no</td>\n",
              "    </tr>\n",
              "  </tbody>\n",
              "</table>\n",
              "</div>\n",
              "      <button class=\"colab-df-convert\" onclick=\"convertToInteractive('df-5d13ad25-6153-4106-b1b8-571013548eba')\"\n",
              "              title=\"Convert this dataframe to an interactive table.\"\n",
              "              style=\"display:none;\">\n",
              "        \n",
              "  <svg xmlns=\"http://www.w3.org/2000/svg\" height=\"24px\"viewBox=\"0 0 24 24\"\n",
              "       width=\"24px\">\n",
              "    <path d=\"M0 0h24v24H0V0z\" fill=\"none\"/>\n",
              "    <path d=\"M18.56 5.44l.94 2.06.94-2.06 2.06-.94-2.06-.94-.94-2.06-.94 2.06-2.06.94zm-11 1L8.5 8.5l.94-2.06 2.06-.94-2.06-.94L8.5 2.5l-.94 2.06-2.06.94zm10 10l.94 2.06.94-2.06 2.06-.94-2.06-.94-.94-2.06-.94 2.06-2.06.94z\"/><path d=\"M17.41 7.96l-1.37-1.37c-.4-.4-.92-.59-1.43-.59-.52 0-1.04.2-1.43.59L10.3 9.45l-7.72 7.72c-.78.78-.78 2.05 0 2.83L4 21.41c.39.39.9.59 1.41.59.51 0 1.02-.2 1.41-.59l7.78-7.78 2.81-2.81c.8-.78.8-2.07 0-2.86zM5.41 20L4 18.59l7.72-7.72 1.47 1.35L5.41 20z\"/>\n",
              "  </svg>\n",
              "      </button>\n",
              "      \n",
              "  <style>\n",
              "    .colab-df-container {\n",
              "      display:flex;\n",
              "      flex-wrap:wrap;\n",
              "      gap: 12px;\n",
              "    }\n",
              "\n",
              "    .colab-df-convert {\n",
              "      background-color: #E8F0FE;\n",
              "      border: none;\n",
              "      border-radius: 50%;\n",
              "      cursor: pointer;\n",
              "      display: none;\n",
              "      fill: #1967D2;\n",
              "      height: 32px;\n",
              "      padding: 0 0 0 0;\n",
              "      width: 32px;\n",
              "    }\n",
              "\n",
              "    .colab-df-convert:hover {\n",
              "      background-color: #E2EBFA;\n",
              "      box-shadow: 0px 1px 2px rgba(60, 64, 67, 0.3), 0px 1px 3px 1px rgba(60, 64, 67, 0.15);\n",
              "      fill: #174EA6;\n",
              "    }\n",
              "\n",
              "    [theme=dark] .colab-df-convert {\n",
              "      background-color: #3B4455;\n",
              "      fill: #D2E3FC;\n",
              "    }\n",
              "\n",
              "    [theme=dark] .colab-df-convert:hover {\n",
              "      background-color: #434B5C;\n",
              "      box-shadow: 0px 1px 3px 1px rgba(0, 0, 0, 0.15);\n",
              "      filter: drop-shadow(0px 1px 2px rgba(0, 0, 0, 0.3));\n",
              "      fill: #FFFFFF;\n",
              "    }\n",
              "  </style>\n",
              "\n",
              "      <script>\n",
              "        const buttonEl =\n",
              "          document.querySelector('#df-5d13ad25-6153-4106-b1b8-571013548eba button.colab-df-convert');\n",
              "        buttonEl.style.display =\n",
              "          google.colab.kernel.accessAllowed ? 'block' : 'none';\n",
              "\n",
              "        async function convertToInteractive(key) {\n",
              "          const element = document.querySelector('#df-5d13ad25-6153-4106-b1b8-571013548eba');\n",
              "          const dataTable =\n",
              "            await google.colab.kernel.invokeFunction('convertToInteractive',\n",
              "                                                     [key], {});\n",
              "          if (!dataTable) return;\n",
              "\n",
              "          const docLinkHtml = 'Like what you see? Visit the ' +\n",
              "            '<a target=\"_blank\" href=https://colab.research.google.com/notebooks/data_table.ipynb>data table notebook</a>'\n",
              "            + ' to learn more about interactive tables.';\n",
              "          element.innerHTML = '';\n",
              "          dataTable['output_type'] = 'display_data';\n",
              "          await google.colab.output.renderOutput(dataTable, element);\n",
              "          const docLink = document.createElement('div');\n",
              "          docLink.innerHTML = docLinkHtml;\n",
              "          element.appendChild(docLink);\n",
              "        }\n",
              "      </script>\n",
              "    </div>\n",
              "  </div>\n",
              "  "
            ]
          },
          "metadata": {},
          "execution_count": 59
        }
      ]
    },
    {
      "cell_type": "code",
      "source": [
        "import seaborn as sns\n",
        "sns.countplot(x='y',data=df)"
      ],
      "metadata": {
        "colab": {
          "base_uri": "https://localhost:8080/",
          "height": 296
        },
        "id": "Y7_9dQHUB0f5",
        "outputId": "1baa18a2-c25b-4e8b-86de-b8ee6137cd8f"
      },
      "execution_count": 60,
      "outputs": [
        {
          "output_type": "execute_result",
          "data": {
            "text/plain": [
              "<matplotlib.axes._subplots.AxesSubplot at 0x7fa522ebd590>"
            ]
          },
          "metadata": {},
          "execution_count": 60
        },
        {
          "output_type": "display_data",
          "data": {
            "text/plain": [
              "<Figure size 432x288 with 1 Axes>"
            ],
            "image/png": "[encoded data removed]"
          },
          "metadata": {
            "needs_background": "light"
          }
        }
      ]
    },
    {
      "cell_type": "code",
      "source": [
        "categorcial_variables = ['job', 'marital', 'education', 'default', 'loan', 'contact', 'month', 'poutcome','y']\n",
        "for col in categorcial_variables:\n",
        "    plt.figure(figsize=(10,4))\n",
        "    sns.barplot(df[col].value_counts().values, df[col].value_counts().index)\n",
        "    plt.title(col)\n",
        "    plt.tight_layout()"
      ],
      "metadata": {
        "colab": {
          "base_uri": "https://localhost:8080/",
          "height": 1000
        },
        "id": "ahdtQrPeC8a2",
        "outputId": "caf01c6c-b500-4df0-9ea8-153fd3adbe0d"
      },
      "execution_count": 61,
      "outputs": [
        {
          "output_type": "display_data",
          "data": {
            "text/plain": [
              "<Figure size 720x288 with 1 Axes>"
            ],
            "image/png": "[encoded data removed]"
          },
          "metadata": {
            "needs_background": "light"
          }
        },
        {
          "output_type": "display_data",
          "data": {
            "text/plain": [
              "<Figure size 720x288 with 1 Axes>"
            ],
            "image/png": "[encoded data removed]"
          },
          "metadata": {
            "needs_background": "light"
          }
        },
        {
          "output_type": "display_data",
          "data": {
            "text/plain": [
              "<Figure size 720x288 with 1 Axes>"
            ],
            "image/png": "[encoded data removed]"
          },
          "metadata": {
            "needs_background": "light"
          }
        },
        {
          "output_type": "display_data",
          "data": {
            "text/plain": [
              "<Figure size 720x288 with 1 Axes>"
            ],
            "image/png": "[encoded data removed]"
          },
          "metadata": {
            "needs_background": "light"
          }
        },
        {
          "output_type": "display_data",
          "data": {
            "text/plain": [
              "<Figure size 720x288 with 1 Axes>"
            ],
            "image/png": "[encoded data removed]"
          },
          "metadata": {
            "needs_background": "light"
          }
        },
        {
          "output_type": "display_data",
          "data": {
            "text/plain": [
              "<Figure size 720x288 with 1 Axes>"
            ],
            "image/png": "[encoded data removed]"
          },
          "metadata": {
            "needs_background": "light"
          }
        },
        {
          "output_type": "display_data",
          "data": {
            "text/plain": [
              "<Figure size 720x288 with 1 Axes>"
            ],
            "image/png": "[encoded data removed]"
          },
          "metadata": {
            "needs_background": "light"
          }
        },
        {
          "output_type": "display_data",
          "data": {
            "text/plain": [
              "<Figure size 720x288 with 1 Axes>"
            ],
            "image/png": "[encoded data removed]"
          },
          "metadata": {
            "needs_background": "light"
          }
        },
        {
          "output_type": "display_data",
          "data": {
            "text/plain": [
              "<Figure size 720x288 with 1 Axes>"
            ],
            "image/png": "[encoded data removed]"
          },
          "metadata": {
            "needs_background": "light"
          }
        }
      ]
    },
    {
      "cell_type": "code",
      "source": [
        "df.isnull().sum()"
      ],
      "metadata": {
        "colab": {
          "base_uri": "https://localhost:8080/"
        },
        "id": "4qTrG3WpEXQy",
        "outputId": "e900f85d-b7ee-4aac-b908-995727b2330d"
      },
      "execution_count": 62,
      "outputs": [
        {
          "output_type": "execute_result",
          "data": {
            "text/plain": [
              "age          0\n",
              "job          0\n",
              "marital      0\n",
              "education    0\n",
              "default      0\n",
              "balance      0\n",
              "housing      0\n",
              "loan         0\n",
              "contact      0\n",
              "day          0\n",
              "month        0\n",
              "duration     0\n",
              "campaign     0\n",
              "pdays        0\n",
              "previous     0\n",
              "poutcome     0\n",
              "y            0\n",
              "dtype: int64"
            ]
          },
          "metadata": {},
          "execution_count": 62
        }
      ]
    },
    {
      "cell_type": "code",
      "source": [
        "df.describe()"
      ],
      "metadata": {
        "colab": {
          "base_uri": "https://localhost:8080/",
          "height": 300
        },
        "id": "X__0IoRQEZUt",
        "outputId": "d112161f-f47a-4676-cd1d-a7e24fb6a8c5"
      },
      "execution_count": 63,
      "outputs": [
        {
          "output_type": "execute_result",
          "data": {
            "text/plain": [
              "                age        balance           day      duration      campaign  \\\n",
              "count  45211.000000   45211.000000  45211.000000  45211.000000  45211.000000   \n",
              "mean      40.936210    1362.272058     15.806419    258.163080      2.763841   \n",
              "std       10.618762    3044.765829      8.322476    257.527812      3.098021   \n",
              "min       18.000000   -8019.000000      1.000000      0.000000      1.000000   \n",
              "25%       33.000000      72.000000      8.000000    103.000000      1.000000   \n",
              "50%       39.000000     448.000000     16.000000    180.000000      2.000000   \n",
              "75%       48.000000    1428.000000     21.000000    319.000000      3.000000   \n",
              "max       95.000000  102127.000000     31.000000   4918.000000     63.000000   \n",
              "\n",
              "              pdays      previous  \n",
              "count  45211.000000  45211.000000  \n",
              "mean      40.197828      0.580323  \n",
              "std      100.128746      2.303441  \n",
              "min       -1.000000      0.000000  \n",
              "25%       -1.000000      0.000000  \n",
              "50%       -1.000000      0.000000  \n",
              "75%       -1.000000      0.000000  \n",
              "max      871.000000    275.000000  "
            ],
            "text/html": [
              "\n",
              "  <div id=\"df-78c630d7-46bd-4a48-a743-e6f2be95ce27\">\n",
              "    <div class=\"colab-df-container\">\n",
              "      <div>\n",
              "<style scoped>\n",
              "    .dataframe tbody tr th:only-of-type {\n",
              "        vertical-align: middle;\n",
              "    }\n",
              "\n",
              "    .dataframe tbody tr th {\n",
              "        vertical-align: top;\n",
              "    }\n",
              "\n",
              "    .dataframe thead th {\n",
              "        text-align: right;\n",
              "    }\n",
              "</style>\n",
              "<table border=\"1\" class=\"dataframe\">\n",
              "  <thead>\n",
              "    <tr style=\"text-align: right;\">\n",
              "      <th></th>\n",
              "      <th>age</th>\n",
              "      <th>balance</th>\n",
              "      <th>day</th>\n",
              "      <th>duration</th>\n",
              "      <th>campaign</th>\n",
              "      <th>pdays</th>\n",
              "      <th>previous</th>\n",
              "    </tr>\n",
              "  </thead>\n",
              "  <tbody>\n",
              "    <tr>\n",
              "      <th>count</th>\n",
              "      <td>45211.000000</td>\n",
              "      <td>45211.000000</td>\n",
              "      <td>45211.000000</td>\n",
              "      <td>45211.000000</td>\n",
              "      <td>45211.000000</td>\n",
              "      <td>45211.000000</td>\n",
              "      <td>45211.000000</td>\n",
              "    </tr>\n",
              "    <tr>\n",
              "      <th>mean</th>\n",
              "      <td>40.936210</td>\n",
              "      <td>1362.272058</td>\n",
              "      <td>15.806419</td>\n",
              "      <td>258.163080</td>\n",
              "      <td>2.763841</td>\n",
              "      <td>40.197828</td>\n",
              "      <td>0.580323</td>\n",
              "    </tr>\n",
              "    <tr>\n",
              "      <th>std</th>\n",
              "      <td>10.618762</td>\n",
              "      <td>3044.765829</td>\n",
              "      <td>8.322476</td>\n",
              "      <td>257.527812</td>\n",
              "      <td>3.098021</td>\n",
              "      <td>100.128746</td>\n",
              "      <td>2.303441</td>\n",
              "    </tr>\n",
              "    <tr>\n",
              "      <th>min</th>\n",
              "      <td>18.000000</td>\n",
              "      <td>-8019.000000</td>\n",
              "      <td>1.000000</td>\n",
              "      <td>0.000000</td>\n",
              "      <td>1.000000</td>\n",
              "      <td>-1.000000</td>\n",
              "      <td>0.000000</td>\n",
              "    </tr>\n",
              "    <tr>\n",
              "      <th>25%</th>\n",
              "      <td>33.000000</td>\n",
              "      <td>72.000000</td>\n",
              "      <td>8.000000</td>\n",
              "      <td>103.000000</td>\n",
              "      <td>1.000000</td>\n",
              "      <td>-1.000000</td>\n",
              "      <td>0.000000</td>\n",
              "    </tr>\n",
              "    <tr>\n",
              "      <th>50%</th>\n",
              "      <td>39.000000</td>\n",
              "      <td>448.000000</td>\n",
              "      <td>16.000000</td>\n",
              "      <td>180.000000</td>\n",
              "      <td>2.000000</td>\n",
              "      <td>-1.000000</td>\n",
              "      <td>0.000000</td>\n",
              "    </tr>\n",
              "    <tr>\n",
              "      <th>75%</th>\n",
              "      <td>48.000000</td>\n",
              "      <td>1428.000000</td>\n",
              "      <td>21.000000</td>\n",
              "      <td>319.000000</td>\n",
              "      <td>3.000000</td>\n",
              "      <td>-1.000000</td>\n",
              "      <td>0.000000</td>\n",
              "    </tr>\n",
              "    <tr>\n",
              "      <th>max</th>\n",
              "      <td>95.000000</td>\n",
              "      <td>102127.000000</td>\n",
              "      <td>31.000000</td>\n",
              "      <td>4918.000000</td>\n",
              "      <td>63.000000</td>\n",
              "      <td>871.000000</td>\n",
              "      <td>275.000000</td>\n",
              "    </tr>\n",
              "  </tbody>\n",
              "</table>\n",
              "</div>\n",
              "      <button class=\"colab-df-convert\" onclick=\"convertToInteractive('df-78c630d7-46bd-4a48-a743-e6f2be95ce27')\"\n",
              "              title=\"Convert this dataframe to an interactive table.\"\n",
              "              style=\"display:none;\">\n",
              "        \n",
              "  <svg xmlns=\"http://www.w3.org/2000/svg\" height=\"24px\"viewBox=\"0 0 24 24\"\n",
              "       width=\"24px\">\n",
              "    <path d=\"M0 0h24v24H0V0z\" fill=\"none\"/>\n",
              "    <path d=\"M18.56 5.44l.94 2.06.94-2.06 2.06-.94-2.06-.94-.94-2.06-.94 2.06-2.06.94zm-11 1L8.5 8.5l.94-2.06 2.06-.94-2.06-.94L8.5 2.5l-.94 2.06-2.06.94zm10 10l.94 2.06.94-2.06 2.06-.94-2.06-.94-.94-2.06-.94 2.06-2.06.94z\"/><path d=\"M17.41 7.96l-1.37-1.37c-.4-.4-.92-.59-1.43-.59-.52 0-1.04.2-1.43.59L10.3 9.45l-7.72 7.72c-.78.78-.78 2.05 0 2.83L4 21.41c.39.39.9.59 1.41.59.51 0 1.02-.2 1.41-.59l7.78-7.78 2.81-2.81c.8-.78.8-2.07 0-2.86zM5.41 20L4 18.59l7.72-7.72 1.47 1.35L5.41 20z\"/>\n",
              "  </svg>\n",
              "      </button>\n",
              "      \n",
              "  <style>\n",
              "    .colab-df-container {\n",
              "      display:flex;\n",
              "      flex-wrap:wrap;\n",
              "      gap: 12px;\n",
              "    }\n",
              "\n",
              "    .colab-df-convert {\n",
              "      background-color: #E8F0FE;\n",
              "      border: none;\n",
              "      border-radius: 50%;\n",
              "      cursor: pointer;\n",
              "      display: none;\n",
              "      fill: #1967D2;\n",
              "      height: 32px;\n",
              "      padding: 0 0 0 0;\n",
              "      width: 32px;\n",
              "    }\n",
              "\n",
              "    .colab-df-convert:hover {\n",
              "      background-color: #E2EBFA;\n",
              "      box-shadow: 0px 1px 2px rgba(60, 64, 67, 0.3), 0px 1px 3px 1px rgba(60, 64, 67, 0.15);\n",
              "      fill: #174EA6;\n",
              "    }\n",
              "\n",
              "    [theme=dark] .colab-df-convert {\n",
              "      background-color: #3B4455;\n",
              "      fill: #D2E3FC;\n",
              "    }\n",
              "\n",
              "    [theme=dark] .colab-df-convert:hover {\n",
              "      background-color: #434B5C;\n",
              "      box-shadow: 0px 1px 3px 1px rgba(0, 0, 0, 0.15);\n",
              "      filter: drop-shadow(0px 1px 2px rgba(0, 0, 0, 0.3));\n",
              "      fill: #FFFFFF;\n",
              "    }\n",
              "  </style>\n",
              "\n",
              "      <script>\n",
              "        const buttonEl =\n",
              "          document.querySelector('#df-78c630d7-46bd-4a48-a743-e6f2be95ce27 button.colab-df-convert');\n",
              "        buttonEl.style.display =\n",
              "          google.colab.kernel.accessAllowed ? 'block' : 'none';\n",
              "\n",
              "        async function convertToInteractive(key) {\n",
              "          const element = document.querySelector('#df-78c630d7-46bd-4a48-a743-e6f2be95ce27');\n",
              "          const dataTable =\n",
              "            await google.colab.kernel.invokeFunction('convertToInteractive',\n",
              "                                                     [key], {});\n",
              "          if (!dataTable) return;\n",
              "\n",
              "          const docLinkHtml = 'Like what you see? Visit the ' +\n",
              "            '<a target=\"_blank\" href=https://colab.research.google.com/notebooks/data_table.ipynb>data table notebook</a>'\n",
              "            + ' to learn more about interactive tables.';\n",
              "          element.innerHTML = '';\n",
              "          dataTable['output_type'] = 'display_data';\n",
              "          await google.colab.output.renderOutput(dataTable, element);\n",
              "          const docLink = document.createElement('div');\n",
              "          docLink.innerHTML = docLinkHtml;\n",
              "          element.appendChild(docLink);\n",
              "        }\n",
              "      </script>\n",
              "    </div>\n",
              "  </div>\n",
              "  "
            ]
          },
          "metadata": {},
          "execution_count": 63
        }
      ]
    },
    {
      "cell_type": "code",
      "source": [
        "d1=df.copy()\n",
        "d2=d1[d1.y=='yes']\n",
        "d1=pd.concat([d1, d2])\n",
        "d1=pd.concat([d1, d2])\n",
        "d1=pd.concat([d1, d2])\n",
        "d1=pd.concat([d1, d2])\n",
        "d1=pd.concat([d1, d2])\n",
        "d1=pd.concat([d1, d2])\n",
        "d1=pd.concat([d1, d2])\n",
        "data=d1"
      ],
      "metadata": {
        "id": "KdV8foXiEbVq"
      },
      "execution_count": 64,
      "outputs": []
    },
    {
      "cell_type": "code",
      "source": [
        "sns.countplot(x='y',data=d1)"
      ],
      "metadata": {
        "colab": {
          "base_uri": "https://localhost:8080/",
          "height": 296
        },
        "id": "KsuJlKOCFK1x",
        "outputId": "2e0a0fbe-dc3a-474e-c0a9-fa834b4ad56c"
      },
      "execution_count": 65,
      "outputs": [
        {
          "output_type": "execute_result",
          "data": {
            "text/plain": [
              "<matplotlib.axes._subplots.AxesSubplot at 0x7fa522ebd5d0>"
            ]
          },
          "metadata": {},
          "execution_count": 65
        },
        {
          "output_type": "display_data",
          "data": {
            "text/plain": [
              "<Figure size 432x288 with 1 Axes>"
            ],
            "image/png": "[encoded data removed]"
          },
          "metadata": {
            "needs_background": "light"
          }
        }
      ]
    },
    {
      "cell_type": "code",
      "source": [
        "d1.columns"
      ],
      "metadata": {
        "colab": {
          "base_uri": "https://localhost:8080/"
        },
        "id": "Hitq8hwkHhC4",
        "outputId": "c97fc0a2-6e2b-47d4-8b18-2a58e023cfec"
      },
      "execution_count": 66,
      "outputs": [
        {
          "output_type": "execute_result",
          "data": {
            "text/plain": [
              "Index(['age', 'job', 'marital', 'education', 'default', 'balance', 'housing',\n",
              "       'loan', 'contact', 'day', 'month', 'duration', 'campaign', 'pdays',\n",
              "       'previous', 'poutcome', 'y'],\n",
              "      dtype='object')"
            ]
          },
          "metadata": {},
          "execution_count": 66
        }
      ]
    },
    {
      "cell_type": "code",
      "source": [
        "d1.shape"
      ],
      "metadata": {
        "colab": {
          "base_uri": "https://localhost:8080/"
        },
        "id": "N9ydOUafG59V",
        "outputId": "7bf1b084-d012-460e-b8ed-678a17f38b2b"
      },
      "execution_count": 67,
      "outputs": [
        {
          "output_type": "execute_result",
          "data": {
            "text/plain": [
              "(82234, 17)"
            ]
          },
          "metadata": {},
          "execution_count": 67
        }
      ]
    },
    {
      "cell_type": "code",
      "source": [
        "col = ['age','balance','day','duration','campaign','pdays','previous']\n",
        "d1.hist(column=col,figsize=(10,10))\n",
        "plt.subplots_adjust(wspace = 0.5, hspace = 0.5)\n",
        "plt.show()"
      ],
      "metadata": {
        "colab": {
          "base_uri": "https://localhost:8080/",
          "height": 607
        },
        "id": "-HdbiFoIG7Ws",
        "outputId": "954fc354-202a-40fa-cf8c-c1c3f3fae2e5"
      },
      "execution_count": 68,
      "outputs": [
        {
          "output_type": "display_data",
          "data": {
            "text/plain": [
              "<Figure size 720x720 with 9 Axes>"
            ],
            "image/png": "[encoded data removed]"
          },
          "metadata": {
            "needs_background": "light"
          }
        }
      ]
    },
    {
      "cell_type": "code",
      "source": [
        "d1.pdays.value_counts()"
      ],
      "metadata": {
        "colab": {
          "base_uri": "https://localhost:8080/"
        },
        "id": "KmnBU1g2Je4h",
        "outputId": "d67b6404-a2ce-4cb9-b781-ce0bc938ccae"
      },
      "execution_count": 69,
      "outputs": [
        {
          "output_type": "execute_result",
          "data": {
            "text/plain": [
              "-1      60642\n",
              " 92       819\n",
              " 182      727\n",
              " 91       651\n",
              " 181      635\n",
              "        ...  \n",
              " 401        1\n",
              " 413        1\n",
              " 531        1\n",
              " 701        1\n",
              " 530        1\n",
              "Name: pdays, Length: 559, dtype: int64"
            ]
          },
          "metadata": {},
          "execution_count": 69
        }
      ]
    },
    {
      "cell_type": "code",
      "source": [
        "d1.previous.value_counts()"
      ],
      "metadata": {
        "colab": {
          "base_uri": "https://localhost:8080/"
        },
        "id": "qEjwyxskOSUq",
        "outputId": "444b54bd-0627-4c2b-bc70-84d466be459f"
      },
      "execution_count": 70,
      "outputs": [
        {
          "output_type": "execute_result",
          "data": {
            "text/plain": [
              "0      60642\n",
              "1       6853\n",
              "2       5298\n",
              "3       3200\n",
              "4       1911\n",
              "5       1306\n",
              "6        858\n",
              "7        583\n",
              "8        402\n",
              "9        260\n",
              "10       249\n",
              "11       170\n",
              "12       114\n",
              "13       101\n",
              "14        54\n",
              "17        36\n",
              "15        27\n",
              "19        25\n",
              "23        15\n",
              "20        15\n",
              "22        13\n",
              "16        13\n",
              "21        11\n",
              "29        11\n",
              "30        10\n",
              "26         9\n",
              "55         8\n",
              "58         8\n",
              "18         6\n",
              "27         5\n",
              "24         5\n",
              "25         4\n",
              "37         2\n",
              "28         2\n",
              "38         2\n",
              "275        1\n",
              "51         1\n",
              "32         1\n",
              "40         1\n",
              "35         1\n",
              "41         1\n",
              "Name: previous, dtype: int64"
            ]
          },
          "metadata": {},
          "execution_count": 70
        }
      ]
    },
    {
      "cell_type": "code",
      "source": [
        "from sklearn.preprocessing import MinMaxScaler, StandardScaler"
      ],
      "metadata": {
        "id": "vx2vncaROS06"
      },
      "execution_count": 71,
      "outputs": []
    },
    {
      "cell_type": "code",
      "source": [
        "idx_numeric=[0,5,9,11,12,13,14]\n",
        "scaler = MinMaxScaler()\n",
        "d1[d1.columns[idx_numeric]] = scaler.fit_transform(d1[d1.columns[idx_numeric]])"
      ],
      "metadata": {
        "id": "2lDGmvz_Jynj"
      },
      "execution_count": 72,
      "outputs": []
    },
    {
      "cell_type": "code",
      "source": [
        "d1.poutcome.value_counts()"
      ],
      "metadata": {
        "colab": {
          "base_uri": "https://localhost:8080/"
        },
        "id": "cQOQerpcQzgB",
        "outputId": "5b02cb32-db89-49af-fdfa-a3a82668751c"
      },
      "execution_count": 73,
      "outputs": [
        {
          "output_type": "execute_result",
          "data": {
            "text/plain": [
              "unknown    60661\n",
              "failure     9227\n",
              "success     8357\n",
              "other       3989\n",
              "Name: poutcome, dtype: int64"
            ]
          },
          "metadata": {},
          "execution_count": 73
        }
      ]
    },
    {
      "cell_type": "code",
      "source": [
        "d1.default.value_counts()"
      ],
      "metadata": {
        "colab": {
          "base_uri": "https://localhost:8080/"
        },
        "id": "9NfubiTHRLWi",
        "outputId": "0d23ba11-3197-48e5-8e39-ae4d0c9d96fe"
      },
      "execution_count": 74,
      "outputs": [
        {
          "output_type": "execute_result",
          "data": {
            "text/plain": [
              "no     81055\n",
              "yes     1179\n",
              "Name: default, dtype: int64"
            ]
          },
          "metadata": {},
          "execution_count": 74
        }
      ]
    },
    {
      "cell_type": "code",
      "source": [
        "d1.housing.value_counts()"
      ],
      "metadata": {
        "colab": {
          "base_uri": "https://localhost:8080/"
        },
        "id": "KbuI9J5GRVCp",
        "outputId": "57a22fb2-e457-42cf-e001-efc92488447a"
      },
      "execution_count": 75,
      "outputs": [
        {
          "output_type": "execute_result",
          "data": {
            "text/plain": [
              "no     43559\n",
              "yes    38675\n",
              "Name: housing, dtype: int64"
            ]
          },
          "metadata": {},
          "execution_count": 75
        }
      ]
    },
    {
      "cell_type": "code",
      "source": [
        "d1.loan.value_counts()"
      ],
      "metadata": {
        "colab": {
          "base_uri": "https://localhost:8080/"
        },
        "id": "PWnAvRtVRqIv",
        "outputId": "626b8e29-2536-4481-8d21-d2122868dd22"
      },
      "execution_count": 76,
      "outputs": [
        {
          "output_type": "execute_result",
          "data": {
            "text/plain": [
              "no     71602\n",
              "yes    10632\n",
              "Name: loan, dtype: int64"
            ]
          },
          "metadata": {},
          "execution_count": 76
        }
      ]
    },
    {
      "cell_type": "code",
      "source": [
        "d1['poutcome'] = d1['poutcome'].map({'failure': -1,'unknown': 0,'other':1,'success': 2,})\n",
        "d1['default'] = d1['default'].map({'yes': -1,'no': 1})\n",
        "d1['housing'] = d1['housing'].map({'yes': -1,'no': 1})\n",
        "d1['loan'] = d1['loan'].map({'yes': -1,'no': 1})"
      ],
      "metadata": {
        "id": "AiS8gFoMQnFX"
      },
      "execution_count": 77,
      "outputs": []
    },
    {
      "cell_type": "code",
      "source": [
        "# One hot encoding of nominal varibles\n",
        "nominal = ['job','marital','education','contact','month']\n",
        "dataProcessed = pd.get_dummies(d1,columns=nominal)\n",
        "dataProcessed['y']=dataProcessed['y'].map({'yes': 1,'no': 0})\n",
        "dataProcessed.head()"
      ],
      "metadata": {
        "colab": {
          "base_uri": "https://localhost:8080/",
          "height": 299
        },
        "id": "MKFFEIVqO25A",
        "outputId": "41cfcc42-fc80-4d01-b947-b62df7f062a1"
      },
      "execution_count": 78,
      "outputs": [
        {
          "output_type": "execute_result",
          "data": {
            "text/plain": [
              "        age  default   balance  housing  loan       day  duration  campaign  \\\n",
              "0  0.519481        1  0.092259       -1     1  0.133333  0.053070       0.0   \n",
              "1  0.337662        1  0.073067       -1     1  0.133333  0.030704       0.0   \n",
              "2  0.194805        1  0.072822       -1    -1  0.133333  0.015453       0.0   \n",
              "3  0.376623        1  0.086476       -1     1  0.133333  0.018707       0.0   \n",
              "4  0.194805        1  0.072812        1     1  0.133333  0.040260       0.0   \n",
              "\n",
              "   pdays  previous  ...  month_dec  month_feb  month_jan  month_jul  \\\n",
              "0    0.0       0.0  ...          0          0          0          0   \n",
              "1    0.0       0.0  ...          0          0          0          0   \n",
              "2    0.0       0.0  ...          0          0          0          0   \n",
              "3    0.0       0.0  ...          0          0          0          0   \n",
              "4    0.0       0.0  ...          0          0          0          0   \n",
              "\n",
              "   month_jun  month_mar  month_may  month_nov  month_oct  month_sep  \n",
              "0          0          0          1          0          0          0  \n",
              "1          0          0          1          0          0          0  \n",
              "2          0          0          1          0          0          0  \n",
              "3          0          0          1          0          0          0  \n",
              "4          0          0          1          0          0          0  \n",
              "\n",
              "[5 rows x 46 columns]"
            ],
            "text/html": [
              "\n",
              "  <div id=\"df-43c6ed1c-f38d-4bb4-b8ce-e86d4cdba65e\">\n",
              "    <div class=\"colab-df-container\">\n",
              "      <div>\n",
              "<style scoped>\n",
              "    .dataframe tbody tr th:only-of-type {\n",
              "        vertical-align: middle;\n",
              "    }\n",
              "\n",
              "    .dataframe tbody tr th {\n",
              "        vertical-align: top;\n",
              "    }\n",
              "\n",
              "    .dataframe thead th {\n",
              "        text-align: right;\n",
              "    }\n",
              "</style>\n",
              "<table border=\"1\" class=\"dataframe\">\n",
              "  <thead>\n",
              "    <tr style=\"text-align: right;\">\n",
              "      <th></th>\n",
              "      <th>age</th>\n",
              "      <th>default</th>\n",
              "      <th>balance</th>\n",
              "      <th>housing</th>\n",
              "      <th>loan</th>\n",
              "      <th>day</th>\n",
              "      <th>duration</th>\n",
              "      <th>campaign</th>\n",
              "      <th>pdays</th>\n",
              "      <th>previous</th>\n",
              "      <th>...</th>\n",
              "      <th>month_dec</th>\n",
              "      <th>month_feb</th>\n",
              "      <th>month_jan</th>\n",
              "      <th>month_jul</th>\n",
              "      <th>month_jun</th>\n",
              "      <th>month_mar</th>\n",
              "      <th>month_may</th>\n",
              "      <th>month_nov</th>\n",
              "      <th>month_oct</th>\n",
              "      <th>month_sep</th>\n",
              "    </tr>\n",
              "  </thead>\n",
              "  <tbody>\n",
              "    <tr>\n",
              "      <th>0</th>\n",
              "      <td>0.519481</td>\n",
              "      <td>1</td>\n",
              "      <td>0.092259</td>\n",
              "      <td>-1</td>\n",
              "      <td>1</td>\n",
              "      <td>0.133333</td>\n",
              "      <td>0.053070</td>\n",
              "      <td>0.0</td>\n",
              "      <td>0.0</td>\n",
              "      <td>0.0</td>\n",
              "      <td>...</td>\n",
              "      <td>0</td>\n",
              "      <td>0</td>\n",
              "      <td>0</td>\n",
              "      <td>0</td>\n",
              "      <td>0</td>\n",
              "      <td>0</td>\n",
              "      <td>1</td>\n",
              "      <td>0</td>\n",
              "      <td>0</td>\n",
              "      <td>0</td>\n",
              "    </tr>\n",
              "    <tr>\n",
              "      <th>1</th>\n",
              "      <td>0.337662</td>\n",
              "      <td>1</td>\n",
              "      <td>0.073067</td>\n",
              "      <td>-1</td>\n",
              "      <td>1</td>\n",
              "      <td>0.133333</td>\n",
              "      <td>0.030704</td>\n",
              "      <td>0.0</td>\n",
              "      <td>0.0</td>\n",
              "      <td>0.0</td>\n",
              "      <td>...</td>\n",
              "      <td>0</td>\n",
              "      <td>0</td>\n",
              "      <td>0</td>\n",
              "      <td>0</td>\n",
              "      <td>0</td>\n",
              "      <td>0</td>\n",
              "      <td>1</td>\n",
              "      <td>0</td>\n",
              "      <td>0</td>\n",
              "      <td>0</td>\n",
              "    </tr>\n",
              "    <tr>\n",
              "      <th>2</th>\n",
              "      <td>0.194805</td>\n",
              "      <td>1</td>\n",
              "      <td>0.072822</td>\n",
              "      <td>-1</td>\n",
              "      <td>-1</td>\n",
              "      <td>0.133333</td>\n",
              "      <td>0.015453</td>\n",
              "      <td>0.0</td>\n",
              "      <td>0.0</td>\n",
              "      <td>0.0</td>\n",
              "      <td>...</td>\n",
              "      <td>0</td>\n",
              "      <td>0</td>\n",
              "      <td>0</td>\n",
              "      <td>0</td>\n",
              "      <td>0</td>\n",
              "      <td>0</td>\n",
              "      <td>1</td>\n",
              "      <td>0</td>\n",
              "      <td>0</td>\n",
              "      <td>0</td>\n",
              "    </tr>\n",
              "    <tr>\n",
              "      <th>3</th>\n",
              "      <td>0.376623</td>\n",
              "      <td>1</td>\n",
              "      <td>0.086476</td>\n",
              "      <td>-1</td>\n",
              "      <td>1</td>\n",
              "      <td>0.133333</td>\n",
              "      <td>0.018707</td>\n",
              "      <td>0.0</td>\n",
              "      <td>0.0</td>\n",
              "      <td>0.0</td>\n",
              "      <td>...</td>\n",
              "      <td>0</td>\n",
              "      <td>0</td>\n",
              "      <td>0</td>\n",
              "      <td>0</td>\n",
              "      <td>0</td>\n",
              "      <td>0</td>\n",
              "      <td>1</td>\n",
              "      <td>0</td>\n",
              "      <td>0</td>\n",
              "      <td>0</td>\n",
              "    </tr>\n",
              "    <tr>\n",
              "      <th>4</th>\n",
              "      <td>0.194805</td>\n",
              "      <td>1</td>\n",
              "      <td>0.072812</td>\n",
              "      <td>1</td>\n",
              "      <td>1</td>\n",
              "      <td>0.133333</td>\n",
              "      <td>0.040260</td>\n",
              "      <td>0.0</td>\n",
              "      <td>0.0</td>\n",
              "      <td>0.0</td>\n",
              "      <td>...</td>\n",
              "      <td>0</td>\n",
              "      <td>0</td>\n",
              "      <td>0</td>\n",
              "      <td>0</td>\n",
              "      <td>0</td>\n",
              "      <td>0</td>\n",
              "      <td>1</td>\n",
              "      <td>0</td>\n",
              "      <td>0</td>\n",
              "      <td>0</td>\n",
              "    </tr>\n",
              "  </tbody>\n",
              "</table>\n",
              "<p>5 rows × 46 columns</p>\n",
              "</div>\n",
              "      <button class=\"colab-df-convert\" onclick=\"convertToInteractive('df-43c6ed1c-f38d-4bb4-b8ce-e86d4cdba65e')\"\n",
              "              title=\"Convert this dataframe to an interactive table.\"\n",
              "              style=\"display:none;\">\n",
              "        \n",
              "  <svg xmlns=\"http://www.w3.org/2000/svg\" height=\"24px\"viewBox=\"0 0 24 24\"\n",
              "       width=\"24px\">\n",
              "    <path d=\"M0 0h24v24H0V0z\" fill=\"none\"/>\n",
              "    <path d=\"M18.56 5.44l.94 2.06.94-2.06 2.06-.94-2.06-.94-.94-2.06-.94 2.06-2.06.94zm-11 1L8.5 8.5l.94-2.06 2.06-.94-2.06-.94L8.5 2.5l-.94 2.06-2.06.94zm10 10l.94 2.06.94-2.06 2.06-.94-2.06-.94-.94-2.06-.94 2.06-2.06.94z\"/><path d=\"M17.41 7.96l-1.37-1.37c-.4-.4-.92-.59-1.43-.59-.52 0-1.04.2-1.43.59L10.3 9.45l-7.72 7.72c-.78.78-.78 2.05 0 2.83L4 21.41c.39.39.9.59 1.41.59.51 0 1.02-.2 1.41-.59l7.78-7.78 2.81-2.81c.8-.78.8-2.07 0-2.86zM5.41 20L4 18.59l7.72-7.72 1.47 1.35L5.41 20z\"/>\n",
              "  </svg>\n",
              "      </button>\n",
              "      \n",
              "  <style>\n",
              "    .colab-df-container {\n",
              "      display:flex;\n",
              "      flex-wrap:wrap;\n",
              "      gap: 12px;\n",
              "    }\n",
              "\n",
              "    .colab-df-convert {\n",
              "      background-color: #E8F0FE;\n",
              "      border: none;\n",
              "      border-radius: 50%;\n",
              "      cursor: pointer;\n",
              "      display: none;\n",
              "      fill: #1967D2;\n",
              "      height: 32px;\n",
              "      padding: 0 0 0 0;\n",
              "      width: 32px;\n",
              "    }\n",
              "\n",
              "    .colab-df-convert:hover {\n",
              "      background-color: #E2EBFA;\n",
              "      box-shadow: 0px 1px 2px rgba(60, 64, 67, 0.3), 0px 1px 3px 1px rgba(60, 64, 67, 0.15);\n",
              "      fill: #174EA6;\n",
              "    }\n",
              "\n",
              "    [theme=dark] .colab-df-convert {\n",
              "      background-color: #3B4455;\n",
              "      fill: #D2E3FC;\n",
              "    }\n",
              "\n",
              "    [theme=dark] .colab-df-convert:hover {\n",
              "      background-color: #434B5C;\n",
              "      box-shadow: 0px 1px 3px 1px rgba(0, 0, 0, 0.15);\n",
              "      filter: drop-shadow(0px 1px 2px rgba(0, 0, 0, 0.3));\n",
              "      fill: #FFFFFF;\n",
              "    }\n",
              "  </style>\n",
              "\n",
              "      <script>\n",
              "        const buttonEl =\n",
              "          document.querySelector('#df-43c6ed1c-f38d-4bb4-b8ce-e86d4cdba65e button.colab-df-convert');\n",
              "        buttonEl.style.display =\n",
              "          google.colab.kernel.accessAllowed ? 'block' : 'none';\n",
              "\n",
              "        async function convertToInteractive(key) {\n",
              "          const element = document.querySelector('#df-43c6ed1c-f38d-4bb4-b8ce-e86d4cdba65e');\n",
              "          const dataTable =\n",
              "            await google.colab.kernel.invokeFunction('convertToInteractive',\n",
              "                                                     [key], {});\n",
              "          if (!dataTable) return;\n",
              "\n",
              "          const docLinkHtml = 'Like what you see? Visit the ' +\n",
              "            '<a target=\"_blank\" href=https://colab.research.google.com/notebooks/data_table.ipynb>data table notebook</a>'\n",
              "            + ' to learn more about interactive tables.';\n",
              "          element.innerHTML = '';\n",
              "          dataTable['output_type'] = 'display_data';\n",
              "          await google.colab.output.renderOutput(dataTable, element);\n",
              "          const docLink = document.createElement('div');\n",
              "          docLink.innerHTML = docLinkHtml;\n",
              "          element.appendChild(docLink);\n",
              "        }\n",
              "      </script>\n",
              "    </div>\n",
              "  </div>\n",
              "  "
            ]
          },
          "metadata": {},
          "execution_count": 78
        }
      ]
    },
    {
      "cell_type": "code",
      "source": [
        "dataProcessed.shape"
      ],
      "metadata": {
        "colab": {
          "base_uri": "https://localhost:8080/"
        },
        "id": "cvZ8tEggUXCl",
        "outputId": "8eda55c3-c83f-449f-a5cd-7af78004eb16"
      },
      "execution_count": 79,
      "outputs": [
        {
          "output_type": "execute_result",
          "data": {
            "text/plain": [
              "(82234, 46)"
            ]
          },
          "metadata": {},
          "execution_count": 79
        }
      ]
    },
    {
      "cell_type": "code",
      "source": [
        "from google.colab import files\n",
        "dataProcessed.to_csv('preprocessed.csv',index=False) \n",
        "files.download('preprocessed.csv')"
      ],
      "metadata": {
        "colab": {
          "base_uri": "https://localhost:8080/",
          "height": 17
        },
        "id": "ofdxAkrAUeJ0",
        "outputId": "4a45a272-0009-4045-c1d0-9f9ff282f22b"
      },
      "execution_count": 80,
      "outputs": [
        {
          "output_type": "display_data",
          "data": {
            "text/plain": [
              "<IPython.core.display.Javascript object>"
            ],
            "application/javascript": [
              "\n",
              "    async function download(id, filename, size) {\n",
              "      if (!google.colab.kernel.accessAllowed) {\n",
              "        return;\n",
              "      }\n",
              "      const div = document.createElement('div');\n",
              "      const label = document.createElement('label');\n",
              "      label.textContent = `Downloading \"${filename}\": `;\n",
              "      div.appendChild(label);\n",
              "      const progress = document.createElement('progress');\n",
              "      progress.max = size;\n",
              "      div.appendChild(progress);\n",
              "      document.body.appendChild(div);\n",
              "\n",
              "      const buffers = [];\n",
              "      let downloaded = 0;\n",
              "\n",
              "      const channel = await google.colab.kernel.comms.open(id);\n",
              "      // Send a message to notify the kernel that we're ready.\n",
              "      channel.send({})\n",
              "\n",
              "      for await (const message of channel.messages) {\n",
              "        // Send a message to notify the kernel that we're ready.\n",
              "        channel.send({})\n",
              "        if (message.buffers) {\n",
              "          for (const buffer of message.buffers) {\n",
              "            buffers.push(buffer);\n",
              "            downloaded += buffer.byteLength;\n",
              "            progress.value = downloaded;\n",
              "          }\n",
              "        }\n",
              "      }\n",
              "      const blob = new Blob(buffers, {type: 'application/binary'});\n",
              "      const a = document.createElement('a');\n",
              "      a.href = window.URL.createObjectURL(blob);\n",
              "      a.download = filename;\n",
              "      div.appendChild(a);\n",
              "      a.click();\n",
              "      div.remove();\n",
              "    }\n",
              "  "
            ]
          },
          "metadata": {}
        },
        {
          "output_type": "display_data",
          "data": {
            "text/plain": [
              "<IPython.core.display.Javascript object>"
            ],
            "application/javascript": [
              "download(\"download_c7e58fc5-a414-4bfc-8395-0da41003161a\", \"preprocessed.csv\", 15059256)"
            ]
          },
          "metadata": {}
        }
      ]
    },
    {
      "cell_type": "code",
      "source": [
        "from sklearn.model_selection import train_test_split"
      ],
      "metadata": {
        "id": "9SpM1aLSYiG9"
      },
      "execution_count": 81,
      "outputs": []
    },
    {
      "cell_type": "code",
      "source": [
        "data = pd.read_csv(\"preprocessed.csv\")\n",
        "data.head()"
      ],
      "metadata": {
        "colab": {
          "base_uri": "https://localhost:8080/",
          "height": 299
        },
        "id": "KkWt4_r-YuBM",
        "outputId": "dcf7442e-7547-4969-e100-7a8ba19c4403"
      },
      "execution_count": 82,
      "outputs": [
        {
          "output_type": "execute_result",
          "data": {
            "text/plain": [
              "        age  default   balance  housing  loan       day  duration  campaign  \\\n",
              "0  0.519481        1  0.092259       -1     1  0.133333  0.053070       0.0   \n",
              "1  0.337662        1  0.073067       -1     1  0.133333  0.030704       0.0   \n",
              "2  0.194805        1  0.072822       -1    -1  0.133333  0.015453       0.0   \n",
              "3  0.376623        1  0.086476       -1     1  0.133333  0.018707       0.0   \n",
              "4  0.194805        1  0.072812        1     1  0.133333  0.040260       0.0   \n",
              "\n",
              "   pdays  previous  ...  month_dec  month_feb  month_jan  month_jul  \\\n",
              "0    0.0       0.0  ...          0          0          0          0   \n",
              "1    0.0       0.0  ...          0          0          0          0   \n",
              "2    0.0       0.0  ...          0          0          0          0   \n",
              "3    0.0       0.0  ...          0          0          0          0   \n",
              "4    0.0       0.0  ...          0          0          0          0   \n",
              "\n",
              "   month_jun  month_mar  month_may  month_nov  month_oct  month_sep  \n",
              "0          0          0          1          0          0          0  \n",
              "1          0          0          1          0          0          0  \n",
              "2          0          0          1          0          0          0  \n",
              "3          0          0          1          0          0          0  \n",
              "4          0          0          1          0          0          0  \n",
              "\n",
              "[5 rows x 46 columns]"
            ],
            "text/html": [
              "\n",
              "  <div id=\"df-f22a520e-b704-451a-9270-1f3495b5f651\">\n",
              "    <div class=\"colab-df-container\">\n",
              "      <div>\n",
              "<style scoped>\n",
              "    .dataframe tbody tr th:only-of-type {\n",
              "        vertical-align: middle;\n",
              "    }\n",
              "\n",
              "    .dataframe tbody tr th {\n",
              "        vertical-align: top;\n",
              "    }\n",
              "\n",
              "    .dataframe thead th {\n",
              "        text-align: right;\n",
              "    }\n",
              "</style>\n",
              "<table border=\"1\" class=\"dataframe\">\n",
              "  <thead>\n",
              "    <tr style=\"text-align: right;\">\n",
              "      <th></th>\n",
              "      <th>age</th>\n",
              "      <th>default</th>\n",
              "      <th>balance</th>\n",
              "      <th>housing</th>\n",
              "      <th>loan</th>\n",
              "      <th>day</th>\n",
              "      <th>duration</th>\n",
              "      <th>campaign</th>\n",
              "      <th>pdays</th>\n",
              "      <th>previous</th>\n",
              "      <th>...</th>\n",
              "      <th>month_dec</th>\n",
              "      <th>month_feb</th>\n",
              "      <th>month_jan</th>\n",
              "      <th>month_jul</th>\n",
              "      <th>month_jun</th>\n",
              "      <th>month_mar</th>\n",
              "      <th>month_may</th>\n",
              "      <th>month_nov</th>\n",
              "      <th>month_oct</th>\n",
              "      <th>month_sep</th>\n",
              "    </tr>\n",
              "  </thead>\n",
              "  <tbody>\n",
              "    <tr>\n",
              "      <th>0</th>\n",
              "      <td>0.519481</td>\n",
              "      <td>1</td>\n",
              "      <td>0.092259</td>\n",
              "      <td>-1</td>\n",
              "      <td>1</td>\n",
              "      <td>0.133333</td>\n",
              "      <td>0.053070</td>\n",
              "      <td>0.0</td>\n",
              "      <td>0.0</td>\n",
              "      <td>0.0</td>\n",
              "      <td>...</td>\n",
              "      <td>0</td>\n",
              "      <td>0</td>\n",
              "      <td>0</td>\n",
              "      <td>0</td>\n",
              "      <td>0</td>\n",
              "      <td>0</td>\n",
              "      <td>1</td>\n",
              "      <td>0</td>\n",
              "      <td>0</td>\n",
              "      <td>0</td>\n",
              "    </tr>\n",
              "    <tr>\n",
              "      <th>1</th>\n",
              "      <td>0.337662</td>\n",
              "      <td>1</td>\n",
              "      <td>0.073067</td>\n",
              "      <td>-1</td>\n",
              "      <td>1</td>\n",
              "      <td>0.133333</td>\n",
              "      <td>0.030704</td>\n",
              "      <td>0.0</td>\n",
              "      <td>0.0</td>\n",
              "      <td>0.0</td>\n",
              "      <td>...</td>\n",
              "      <td>0</td>\n",
              "      <td>0</td>\n",
              "      <td>0</td>\n",
              "      <td>0</td>\n",
              "      <td>0</td>\n",
              "      <td>0</td>\n",
              "      <td>1</td>\n",
              "      <td>0</td>\n",
              "      <td>0</td>\n",
              "      <td>0</td>\n",
              "    </tr>\n",
              "    <tr>\n",
              "      <th>2</th>\n",
              "      <td>0.194805</td>\n",
              "      <td>1</td>\n",
              "      <td>0.072822</td>\n",
              "      <td>-1</td>\n",
              "      <td>-1</td>\n",
              "      <td>0.133333</td>\n",
              "      <td>0.015453</td>\n",
              "      <td>0.0</td>\n",
              "      <td>0.0</td>\n",
              "      <td>0.0</td>\n",
              "      <td>...</td>\n",
              "      <td>0</td>\n",
              "      <td>0</td>\n",
              "      <td>0</td>\n",
              "      <td>0</td>\n",
              "      <td>0</td>\n",
              "      <td>0</td>\n",
              "      <td>1</td>\n",
              "      <td>0</td>\n",
              "      <td>0</td>\n",
              "      <td>0</td>\n",
              "    </tr>\n",
              "    <tr>\n",
              "      <th>3</th>\n",
              "      <td>0.376623</td>\n",
              "      <td>1</td>\n",
              "      <td>0.086476</td>\n",
              "      <td>-1</td>\n",
              "      <td>1</td>\n",
              "      <td>0.133333</td>\n",
              "      <td>0.018707</td>\n",
              "      <td>0.0</td>\n",
              "      <td>0.0</td>\n",
              "      <td>0.0</td>\n",
              "      <td>...</td>\n",
              "      <td>0</td>\n",
              "      <td>0</td>\n",
              "      <td>0</td>\n",
              "      <td>0</td>\n",
              "      <td>0</td>\n",
              "      <td>0</td>\n",
              "      <td>1</td>\n",
              "      <td>0</td>\n",
              "      <td>0</td>\n",
              "      <td>0</td>\n",
              "    </tr>\n",
              "    <tr>\n",
              "      <th>4</th>\n",
              "      <td>0.194805</td>\n",
              "      <td>1</td>\n",
              "      <td>0.072812</td>\n",
              "      <td>1</td>\n",
              "      <td>1</td>\n",
              "      <td>0.133333</td>\n",
              "      <td>0.040260</td>\n",
              "      <td>0.0</td>\n",
              "      <td>0.0</td>\n",
              "      <td>0.0</td>\n",
              "      <td>...</td>\n",
              "      <td>0</td>\n",
              "      <td>0</td>\n",
              "      <td>0</td>\n",
              "      <td>0</td>\n",
              "      <td>0</td>\n",
              "      <td>0</td>\n",
              "      <td>1</td>\n",
              "      <td>0</td>\n",
              "      <td>0</td>\n",
              "      <td>0</td>\n",
              "    </tr>\n",
              "  </tbody>\n",
              "</table>\n",
              "<p>5 rows × 46 columns</p>\n",
              "</div>\n",
              "      <button class=\"colab-df-convert\" onclick=\"convertToInteractive('df-f22a520e-b704-451a-9270-1f3495b5f651')\"\n",
              "              title=\"Convert this dataframe to an interactive table.\"\n",
              "              style=\"display:none;\">\n",
              "        \n",
              "  <svg xmlns=\"http://www.w3.org/2000/svg\" height=\"24px\"viewBox=\"0 0 24 24\"\n",
              "       width=\"24px\">\n",
              "    <path d=\"M0 0h24v24H0V0z\" fill=\"none\"/>\n",
              "    <path d=\"M18.56 5.44l.94 2.06.94-2.06 2.06-.94-2.06-.94-.94-2.06-.94 2.06-2.06.94zm-11 1L8.5 8.5l.94-2.06 2.06-.94-2.06-.94L8.5 2.5l-.94 2.06-2.06.94zm10 10l.94 2.06.94-2.06 2.06-.94-2.06-.94-.94-2.06-.94 2.06-2.06.94z\"/><path d=\"M17.41 7.96l-1.37-1.37c-.4-.4-.92-.59-1.43-.59-.52 0-1.04.2-1.43.59L10.3 9.45l-7.72 7.72c-.78.78-.78 2.05 0 2.83L4 21.41c.39.39.9.59 1.41.59.51 0 1.02-.2 1.41-.59l7.78-7.78 2.81-2.81c.8-.78.8-2.07 0-2.86zM5.41 20L4 18.59l7.72-7.72 1.47 1.35L5.41 20z\"/>\n",
              "  </svg>\n",
              "      </button>\n",
              "      \n",
              "  <style>\n",
              "    .colab-df-container {\n",
              "      display:flex;\n",
              "      flex-wrap:wrap;\n",
              "      gap: 12px;\n",
              "    }\n",
              "\n",
              "    .colab-df-convert {\n",
              "      background-color: #E8F0FE;\n",
              "      border: none;\n",
              "      border-radius: 50%;\n",
              "      cursor: pointer;\n",
              "      display: none;\n",
              "      fill: #1967D2;\n",
              "      height: 32px;\n",
              "      padding: 0 0 0 0;\n",
              "      width: 32px;\n",
              "    }\n",
              "\n",
              "    .colab-df-convert:hover {\n",
              "      background-color: #E2EBFA;\n",
              "      box-shadow: 0px 1px 2px rgba(60, 64, 67, 0.3), 0px 1px 3px 1px rgba(60, 64, 67, 0.15);\n",
              "      fill: #174EA6;\n",
              "    }\n",
              "\n",
              "    [theme=dark] .colab-df-convert {\n",
              "      background-color: #3B4455;\n",
              "      fill: #D2E3FC;\n",
              "    }\n",
              "\n",
              "    [theme=dark] .colab-df-convert:hover {\n",
              "      background-color: #434B5C;\n",
              "      box-shadow: 0px 1px 3px 1px rgba(0, 0, 0, 0.15);\n",
              "      filter: drop-shadow(0px 1px 2px rgba(0, 0, 0, 0.3));\n",
              "      fill: #FFFFFF;\n",
              "    }\n",
              "  </style>\n",
              "\n",
              "      <script>\n",
              "        const buttonEl =\n",
              "          document.querySelector('#df-f22a520e-b704-451a-9270-1f3495b5f651 button.colab-df-convert');\n",
              "        buttonEl.style.display =\n",
              "          google.colab.kernel.accessAllowed ? 'block' : 'none';\n",
              "\n",
              "        async function convertToInteractive(key) {\n",
              "          const element = document.querySelector('#df-f22a520e-b704-451a-9270-1f3495b5f651');\n",
              "          const dataTable =\n",
              "            await google.colab.kernel.invokeFunction('convertToInteractive',\n",
              "                                                     [key], {});\n",
              "          if (!dataTable) return;\n",
              "\n",
              "          const docLinkHtml = 'Like what you see? Visit the ' +\n",
              "            '<a target=\"_blank\" href=https://colab.research.google.com/notebooks/data_table.ipynb>data table notebook</a>'\n",
              "            + ' to learn more about interactive tables.';\n",
              "          element.innerHTML = '';\n",
              "          dataTable['output_type'] = 'display_data';\n",
              "          await google.colab.output.renderOutput(dataTable, element);\n",
              "          const docLink = document.createElement('div');\n",
              "          docLink.innerHTML = docLinkHtml;\n",
              "          element.appendChild(docLink);\n",
              "        }\n",
              "      </script>\n",
              "    </div>\n",
              "  </div>\n",
              "  "
            ]
          },
          "metadata": {},
          "execution_count": 82
        }
      ]
    },
    {
      "cell_type": "code",
      "source": [
        "X = data.drop('y', axis=1).values\n",
        "y = data['y'].values"
      ],
      "metadata": {
        "id": "t0UNXmDfYjFL"
      },
      "execution_count": 83,
      "outputs": []
    },
    {
      "cell_type": "code",
      "source": [
        "X_train, X_test, y_train, y_test = train_test_split(X, y, test_size=0.30, random_state=42)"
      ],
      "metadata": {
        "id": "Z0Xw-ylMZDuk"
      },
      "execution_count": 84,
      "outputs": []
    },
    {
      "cell_type": "code",
      "source": [
        "print(X_train.shape, y_train.shape, X_test.shape, y_test.shape)"
      ],
      "metadata": {
        "colab": {
          "base_uri": "https://localhost:8080/"
        },
        "id": "WCoZ6pX7ZI3N",
        "outputId": "b8c01949-88b1-4b44-beb7-b73bd49290d1"
      },
      "execution_count": 85,
      "outputs": [
        {
          "output_type": "stream",
          "name": "stdout",
          "text": [
            "(57563, 45) (57563,) (24671, 45) (24671,)\n"
          ]
        }
      ]
    },
    {
      "cell_type": "markdown",
      "source": [
        "# DNN model"
      ],
      "metadata": {
        "id": "Z9vmLxq_ZtBq"
      }
    },
    {
      "cell_type": "code",
      "source": [
        "import torch"
      ],
      "metadata": {
        "id": "572ExTjqZT2f"
      },
      "execution_count": 86,
      "outputs": []
    },
    {
      "cell_type": "code",
      "source": [
        "X_train = torch.from_numpy(X_train.astype(np.float32))\n",
        "X_test = torch.from_numpy(X_test.astype(np.float32))\n",
        "y_train = torch.from_numpy(y_train.astype(np.float32))\n",
        "y_test = torch.from_numpy(y_test.astype(np.float32))"
      ],
      "metadata": {
        "id": "0mFdrZRJZx6y"
      },
      "execution_count": 87,
      "outputs": []
    },
    {
      "cell_type": "code",
      "source": [
        "X_train.shape"
      ],
      "metadata": {
        "colab": {
          "base_uri": "https://localhost:8080/"
        },
        "id": "oflFjFxPaC7G",
        "outputId": "f398d1e9-2b73-426c-fb62-86e0db43dd0e"
      },
      "execution_count": 88,
      "outputs": [
        {
          "output_type": "execute_result",
          "data": {
            "text/plain": [
              "torch.Size([57563, 45])"
            ]
          },
          "metadata": {},
          "execution_count": 88
        }
      ]
    },
    {
      "cell_type": "code",
      "source": [
        "y_train.shape"
      ],
      "metadata": {
        "colab": {
          "base_uri": "https://localhost:8080/"
        },
        "id": "Z3lwnTzidwDB",
        "outputId": "8b413cce-3bc2-4eab-d5d2-ff7086e5ad02"
      },
      "execution_count": 89,
      "outputs": [
        {
          "output_type": "execute_result",
          "data": {
            "text/plain": [
              "torch.Size([57563])"
            ]
          },
          "metadata": {},
          "execution_count": 89
        }
      ]
    },
    {
      "cell_type": "code",
      "source": [
        "y_train = y_train.view(y_train.shape[0],1)\n",
        "y_test = y_test.view(y_test.shape[0],1)"
      ],
      "metadata": {
        "id": "1ZqqCvdVdzQj"
      },
      "execution_count": 98,
      "outputs": []
    },
    {
      "cell_type": "code",
      "source": [
        "y_train.shape"
      ],
      "metadata": {
        "colab": {
          "base_uri": "https://localhost:8080/"
        },
        "id": "2sQAnNvYd41M",
        "outputId": "8846b4e2-c335-40b0-cc22-3730174545a2"
      },
      "execution_count": 99,
      "outputs": [
        {
          "output_type": "execute_result",
          "data": {
            "text/plain": [
              "torch.Size([57563, 1])"
            ]
          },
          "metadata": {},
          "execution_count": 99
        }
      ]
    },
    {
      "cell_type": "code",
      "source": [
        "from torch.utils.data import TensorDataset,DataLoader"
      ],
      "metadata": {
        "id": "JVZDdHkCgOr8"
      },
      "execution_count": 92,
      "outputs": []
    },
    {
      "cell_type": "code",
      "source": [
        "train_loader = TensorDataset(DataLoader(X_train.float(),y_train),\n",
        "                             batch_size=np.int(32),\n",
        "                             shuffle=True,drop_last=True)\n",
        "test_loader = TensorDataset(DataLoader(X_test.float(),y_test),batch_size=np.int(32),\n",
        "                            shuffle=False,drop_last=True)"
      ],
      "metadata": {
        "colab": {
          "base_uri": "https://localhost:8080/",
          "height": 484
        },
        "id": "gRgYBUwwgduQ",
        "outputId": "d6632cbc-ce5c-4b61-8029-9ddec5c84f81"
      },
      "execution_count": 100,
      "outputs": [
        {
          "output_type": "error",
          "ename": "ValueError",
          "evalue": "ignored",
          "traceback": [
            "\u001b[0;31m---------------------------------------------------------------------------\u001b[0m",
            "\u001b[0;31mValueError\u001b[0m                                Traceback (most recent call last)",
            "\u001b[0;32m<ipython-input-100-21f6b8466ce0>\u001b[0m in \u001b[0;36m<module>\u001b[0;34m\u001b[0m\n\u001b[0;32m----> 1\u001b[0;31m train_loader = TensorDataset(DataLoader(X_train.float(),y_train),\n\u001b[0m\u001b[1;32m      2\u001b[0m                              \u001b[0mbatch_size\u001b[0m\u001b[0;34m=\u001b[0m\u001b[0mnp\u001b[0m\u001b[0;34m.\u001b[0m\u001b[0mint\u001b[0m\u001b[0;34m(\u001b[0m\u001b[0;36m32\u001b[0m\u001b[0;34m)\u001b[0m\u001b[0;34m,\u001b[0m\u001b[0;34m\u001b[0m\u001b[0;34m\u001b[0m\u001b[0m\n\u001b[1;32m      3\u001b[0m                              shuffle=True,drop_last=True)\n\u001b[1;32m      4\u001b[0m test_loader = TensorDataset(DataLoader(X_test.float(),y_test),batch_size=np.int(32),\n\u001b[1;32m      5\u001b[0m                             shuffle=False,drop_last=True)\n",
            "\u001b[0;32m/usr/local/lib/python3.7/dist-packages/torch/utils/data/dataloader.py\u001b[0m in \u001b[0;36m__init__\u001b[0;34m(self, dataset, batch_size, shuffle, sampler, batch_sampler, num_workers, collate_fn, pin_memory, drop_last, timeout, worker_init_fn, multiprocessing_context, generator, prefetch_factor, persistent_workers, pin_memory_device)\u001b[0m\n\u001b[1;32m    357\u001b[0m         \u001b[0;32mif\u001b[0m \u001b[0mbatch_size\u001b[0m \u001b[0;32mis\u001b[0m \u001b[0;32mnot\u001b[0m \u001b[0;32mNone\u001b[0m \u001b[0;32mand\u001b[0m \u001b[0mbatch_sampler\u001b[0m \u001b[0;32mis\u001b[0m \u001b[0;32mNone\u001b[0m\u001b[0;34m:\u001b[0m\u001b[0;34m\u001b[0m\u001b[0;34m\u001b[0m\u001b[0m\n\u001b[1;32m    358\u001b[0m             \u001b[0;31m# auto_collation without custom batch_sampler\u001b[0m\u001b[0;34m\u001b[0m\u001b[0;34m\u001b[0m\u001b[0;34m\u001b[0m\u001b[0m\n\u001b[0;32m--> 359\u001b[0;31m             \u001b[0mbatch_sampler\u001b[0m \u001b[0;34m=\u001b[0m \u001b[0mBatchSampler\u001b[0m\u001b[0;34m(\u001b[0m\u001b[0msampler\u001b[0m\u001b[0;34m,\u001b[0m \u001b[0mbatch_size\u001b[0m\u001b[0;34m,\u001b[0m \u001b[0mdrop_last\u001b[0m\u001b[0;34m)\u001b[0m\u001b[0;34m\u001b[0m\u001b[0;34m\u001b[0m\u001b[0m\n\u001b[0m\u001b[1;32m    360\u001b[0m \u001b[0;34m\u001b[0m\u001b[0m\n\u001b[1;32m    361\u001b[0m         \u001b[0mself\u001b[0m\u001b[0;34m.\u001b[0m\u001b[0mbatch_size\u001b[0m \u001b[0;34m=\u001b[0m \u001b[0mbatch_size\u001b[0m\u001b[0;34m\u001b[0m\u001b[0;34m\u001b[0m\u001b[0m\n",
            "\u001b[0;32m/usr/local/lib/python3.7/dist-packages/torch/utils/data/sampler.py\u001b[0m in \u001b[0;36m__init__\u001b[0;34m(self, sampler, batch_size, drop_last)\u001b[0m\n\u001b[1;32m    224\u001b[0m                 \u001b[0mbatch_size\u001b[0m \u001b[0;34m<=\u001b[0m \u001b[0;36m0\u001b[0m\u001b[0;34m:\u001b[0m\u001b[0;34m\u001b[0m\u001b[0;34m\u001b[0m\u001b[0m\n\u001b[1;32m    225\u001b[0m             raise ValueError(\"batch_size should be a positive integer value, \"\n\u001b[0;32m--> 226\u001b[0;31m                              \"but got batch_size={}\".format(batch_size))\n\u001b[0m\u001b[1;32m    227\u001b[0m         \u001b[0;32mif\u001b[0m \u001b[0;32mnot\u001b[0m \u001b[0misinstance\u001b[0m\u001b[0;34m(\u001b[0m\u001b[0mdrop_last\u001b[0m\u001b[0;34m,\u001b[0m \u001b[0mbool\u001b[0m\u001b[0;34m)\u001b[0m\u001b[0;34m:\u001b[0m\u001b[0;34m\u001b[0m\u001b[0;34m\u001b[0m\u001b[0m\n\u001b[1;32m    228\u001b[0m             raise ValueError(\"drop_last should be a boolean value, but got \"\n",
            "\u001b[0;31mValueError\u001b[0m: batch_size should be a positive integer value, but got batch_size=tensor([[1.],\n        [1.],\n        [1.],\n        ...,\n        [1.],\n        [0.],\n        [0.]])"
          ]
        }
      ]
    },
    {
      "cell_type": "code",
      "source": [
        "import torch.nn as nn\n",
        "import torch.nn.functional as F\n",
        "from torch.optim import Adam\n",
        "from torch.nn.modules import dropout"
      ],
      "metadata": {
        "id": "E3mHg8sYhVDE"
      },
      "execution_count": 102,
      "outputs": []
    },
    {
      "cell_type": "code",
      "source": [
        "class logistic(nn.Module):\n",
        "  def __init__(self):\n",
        "    super(logistic,self).__init__()\n",
        "    self.h1 = nn.Linear(in_features=45,out_features=16)\n",
        "    self.dropout = nn.Dropout(p=0.3)\n",
        "    self.bn = nn.BatchNorm1d(num_features=16)\n",
        "    self.h2 = nn.Linear(in_features=16,out_features=8)\n",
        "    self.out = nn.Linear(in_features=8,out_features=1)\n",
        "\n",
        "  def forward(self,x):\n",
        "    x = F.relu(self.h1(x))\n",
        "    x = self.dropout(x)\n",
        "    x = self.bn(x)\n",
        "    x = F.relu(self.h2(x))\n",
        "    x = F.relu(self.out(x))\n",
        "    return x\n"
      ],
      "metadata": {
        "id": "xE8P4k7enbHi"
      },
      "execution_count": 124,
      "outputs": []
    },
    {
      "cell_type": "code",
      "source": [
        "model = logistic()"
      ],
      "metadata": {
        "id": "Id62Bj09qmHS"
      },
      "execution_count": 125,
      "outputs": []
    },
    {
      "cell_type": "code",
      "source": [
        "list(model.parameters())"
      ],
      "metadata": {
        "colab": {
          "base_uri": "https://localhost:8080/"
        },
        "id": "tE2AKANRrt0l",
        "outputId": "8eca56c6-d796-4ca3-9c7e-d815c7ea0cb6"
      },
      "execution_count": 126,
      "outputs": [
        {
          "output_type": "execute_result",
          "data": {
            "text/plain": [
              "[Parameter containing:\n",
              " tensor([[-1.0965e-01,  9.0597e-02, -8.9299e-02,  1.1899e-01, -5.0905e-02,\n",
              "          -2.7381e-02, -1.0849e-01, -2.3690e-02,  3.3404e-02,  2.2295e-02,\n",
              "           3.0566e-02, -1.0143e-01,  5.6244e-02,  9.6059e-02, -1.1349e-01,\n",
              "          -8.4913e-02,  1.1760e-01, -3.0646e-02, -4.2899e-03,  1.0131e-01,\n",
              "          -2.0203e-02,  1.3588e-01,  7.8810e-02, -4.2307e-03,  1.0556e-01,\n",
              "          -1.0191e-01, -2.9168e-02,  6.5370e-02, -7.7987e-02,  1.1310e-01,\n",
              "          -9.0897e-02,  1.2545e-01,  1.3801e-01,  1.0732e-01,  6.3488e-02,\n",
              "           3.1702e-02, -1.2323e-01, -7.0148e-02,  2.6137e-02,  1.0220e-01,\n",
              "          -3.5010e-02,  4.4463e-02, -2.0514e-02, -1.4157e-01,  5.9154e-02],\n",
              "         [-1.4277e-01,  1.3485e-01,  1.3089e-01,  1.1939e-01, -1.2141e-01,\n",
              "          -1.1496e-01, -5.9414e-02,  1.3065e-01,  1.2962e-01,  4.3290e-02,\n",
              "           1.0245e-01,  1.3507e-01, -1.4398e-01, -2.9645e-02, -9.5280e-02,\n",
              "           1.0160e-02, -8.8198e-02,  1.1607e-01, -7.3248e-02,  5.5529e-02,\n",
              "           7.4988e-02, -8.2599e-02, -5.6360e-02,  3.5702e-02, -3.1809e-02,\n",
              "          -7.4309e-02, -8.1972e-02,  1.5008e-02,  2.4288e-02, -7.6277e-02,\n",
              "           4.2405e-02, -1.0093e-01, -1.6984e-02, -6.5187e-02, -2.1657e-02,\n",
              "           2.3959e-02, -1.4736e-01, -1.3454e-01,  1.1921e-01,  5.7731e-02,\n",
              "          -1.3334e-01,  3.4694e-02,  2.4756e-02,  1.0714e-01,  1.2379e-01],\n",
              "         [-1.0198e-01, -1.1150e-01, -2.5949e-02, -1.4467e-01,  7.0751e-02,\n",
              "           1.1882e-01, -3.4122e-02,  1.2873e-01,  8.9465e-02, -8.8980e-02,\n",
              "           2.2006e-02,  8.8731e-02,  5.8513e-02,  1.4872e-01,  8.2382e-02,\n",
              "           1.1763e-01,  1.0321e-01, -6.8715e-02, -2.4370e-02,  9.9599e-02,\n",
              "           1.7212e-02,  5.0107e-02,  5.7515e-02, -3.7826e-02, -8.9796e-02,\n",
              "          -5.5472e-02,  2.6571e-02, -1.1457e-01,  1.7307e-02, -1.3223e-01,\n",
              "          -7.2561e-03,  1.0503e-01,  4.6000e-02, -7.0889e-02, -1.3937e-01,\n",
              "          -9.1342e-02, -1.4878e-01,  8.2091e-02,  8.0272e-02, -5.7521e-02,\n",
              "           5.9754e-02,  3.3481e-02, -3.5453e-02,  1.4073e-01, -1.4860e-01],\n",
              "         [ 8.8282e-03,  3.9280e-02,  1.4597e-02,  8.6669e-02, -1.0509e-01,\n",
              "           1.2787e-01,  6.2044e-03,  2.9416e-02,  1.1080e-01, -7.1730e-02,\n",
              "           2.3368e-05, -6.1041e-02, -8.3212e-02,  3.7930e-02, -1.0699e-02,\n",
              "          -9.9064e-02, -5.1735e-02,  1.2119e-01, -3.0209e-02, -1.1103e-01,\n",
              "           6.9121e-03, -2.8617e-02, -7.6278e-02,  5.8287e-02, -7.0941e-02,\n",
              "           1.0714e-01, -5.5231e-02, -5.0988e-02,  3.1605e-02, -9.8958e-02,\n",
              "           1.1339e-01,  1.1591e-01,  1.0216e-01,  1.1706e-01, -3.1747e-02,\n",
              "          -4.1250e-02, -6.7414e-03,  6.1839e-02,  1.3291e-01,  1.3192e-01,\n",
              "          -1.4430e-01,  9.3040e-02,  4.9095e-02,  5.9160e-02, -4.4228e-02],\n",
              "         [-1.0230e-01,  1.1064e-01, -1.1444e-01,  8.6120e-02,  8.0583e-02,\n",
              "           5.4710e-03,  2.3814e-02,  1.2099e-01, -8.7340e-02, -1.4285e-01,\n",
              "          -1.2310e-01, -6.1853e-02, -1.0985e-01, -6.8691e-04,  6.1038e-02,\n",
              "           3.7270e-02, -1.3134e-01,  9.5674e-03, -1.3530e-01, -4.2223e-02,\n",
              "          -1.4545e-01, -1.3584e-02,  6.4962e-02,  4.6842e-02, -5.4024e-02,\n",
              "          -1.0755e-01,  1.6828e-02,  3.1032e-02,  7.0919e-03, -7.0584e-02,\n",
              "          -4.2027e-02, -9.0381e-02,  1.9405e-03, -6.0328e-02, -2.8167e-02,\n",
              "          -5.5339e-02,  5.5324e-02, -3.6632e-02, -1.7607e-02,  3.3408e-02,\n",
              "           1.1717e-01,  7.9815e-02,  7.9777e-02, -1.1013e-01, -1.1698e-01],\n",
              "         [ 6.6339e-02, -2.9931e-02, -1.0267e-03, -9.9089e-02,  3.3064e-02,\n",
              "           1.4719e-01, -1.4903e-01,  1.4394e-01, -5.3925e-02,  1.3143e-01,\n",
              "          -1.1558e-01, -1.0907e-01,  7.6183e-02, -1.4535e-01, -8.9440e-02,\n",
              "           6.5831e-02, -1.1912e-01,  4.5295e-02,  9.4478e-02,  8.1763e-02,\n",
              "          -5.9037e-02,  1.1532e-01,  1.0299e-01,  5.6623e-02,  5.7859e-02,\n",
              "           1.2036e-01, -4.6606e-02,  5.6882e-03,  1.3403e-01, -1.0799e-01,\n",
              "          -9.2871e-02, -1.2151e-01,  3.0192e-02, -1.1749e-01, -7.6204e-03,\n",
              "           5.3771e-03,  1.3754e-01,  8.4194e-02, -1.3980e-01, -3.8496e-02,\n",
              "           1.0775e-01, -5.5763e-02,  4.8564e-02, -9.0469e-02,  7.3686e-02],\n",
              "         [-8.1354e-02, -1.8395e-02,  4.0015e-02, -1.2543e-01,  4.9162e-02,\n",
              "           7.2573e-02,  1.1368e-01,  4.9558e-02, -5.8789e-02, -3.1164e-02,\n",
              "          -6.7461e-02,  3.4472e-02,  4.5336e-02,  3.3642e-02,  4.8688e-02,\n",
              "           1.0342e-01,  3.5810e-02,  1.3738e-01, -1.2818e-01,  1.0221e-01,\n",
              "           4.6441e-02, -1.3515e-01,  2.5371e-02, -4.6186e-02, -1.1964e-01,\n",
              "           5.4071e-02, -9.2095e-02, -2.7530e-02,  5.2308e-02, -3.4229e-02,\n",
              "          -7.3168e-02, -2.0463e-03, -1.3252e-01, -1.0194e-01, -8.4659e-04,\n",
              "           4.7705e-02, -1.1618e-01,  7.0375e-02,  7.1687e-02,  1.2849e-01,\n",
              "           7.4624e-02,  2.1541e-02,  1.3586e-01,  5.5014e-02,  6.8795e-02],\n",
              "         [-1.3517e-01, -6.8428e-02,  6.1006e-02, -1.1563e-01,  1.3464e-01,\n",
              "          -7.6058e-02, -9.8306e-02, -7.8534e-02,  8.4221e-02,  9.6507e-02,\n",
              "           3.9051e-02, -8.2067e-03, -4.2957e-03, -5.6250e-02,  1.4199e-01,\n",
              "          -1.1342e-01,  9.3136e-02,  8.3007e-03, -3.9782e-02,  1.3400e-01,\n",
              "          -7.1140e-02,  1.1644e-01, -1.2290e-01,  1.8742e-02, -8.7651e-02,\n",
              "          -7.3289e-02,  5.7883e-02, -6.7145e-02, -9.9584e-03, -7.1321e-02,\n",
              "          -1.0642e-01,  1.8635e-02,  6.6497e-02,  3.4378e-02,  5.3888e-02,\n",
              "          -9.5248e-02, -2.1727e-02,  1.0355e-01,  9.8508e-03,  1.0357e-01,\n",
              "           7.9143e-03, -1.4324e-01, -3.4357e-02, -7.1709e-02,  6.9323e-02],\n",
              "         [-1.1130e-01, -1.0060e-01,  5.5689e-02,  1.4374e-01, -1.0158e-01,\n",
              "           6.1046e-02, -4.5539e-02,  1.2603e-01, -1.1724e-01, -1.3589e-01,\n",
              "           9.1433e-02,  3.9870e-02,  5.5146e-02,  1.4050e-01, -3.3445e-02,\n",
              "          -8.1364e-02,  1.2329e-01, -6.1308e-02, -1.1893e-01, -6.9136e-02,\n",
              "          -1.1536e-01,  6.1523e-02, -2.8559e-02, -1.1750e-01, -8.8145e-02,\n",
              "          -2.4992e-02, -6.2468e-02, -1.9243e-02,  6.2013e-03,  1.3449e-01,\n",
              "          -7.0938e-02, -1.4664e-01, -1.3430e-01, -8.3981e-03,  6.8019e-02,\n",
              "          -6.5544e-02, -9.8160e-02, -7.2110e-02,  1.4539e-02, -9.3264e-02,\n",
              "          -1.1518e-01,  1.1301e-01,  1.2063e-01,  4.0841e-02,  4.6767e-03],\n",
              "         [-3.4576e-02,  4.1763e-02,  1.4659e-01, -4.8579e-02,  1.4365e-02,\n",
              "           9.4107e-02, -9.9383e-02,  9.7622e-03, -6.5916e-02,  1.1724e-01,\n",
              "           2.0743e-02, -6.6405e-02,  1.2978e-01, -9.1153e-02, -3.4917e-02,\n",
              "          -1.0444e-01,  1.7102e-02,  3.1715e-02,  7.6408e-02, -8.5575e-02,\n",
              "          -5.1359e-03,  1.8332e-02, -1.4348e-01, -3.4975e-02,  4.2749e-02,\n",
              "          -1.1723e-01,  3.1420e-02, -5.1470e-03,  7.2082e-02,  7.4056e-02,\n",
              "           1.9944e-04, -7.5666e-02, -4.9318e-02,  1.7810e-02, -1.1425e-01,\n",
              "           1.4529e-01, -6.8498e-02,  6.8375e-02,  8.3158e-02, -1.4760e-02,\n",
              "          -8.9308e-02,  1.0025e-01,  1.0410e-01, -1.3480e-01,  3.0635e-03],\n",
              "         [-1.3903e-02,  4.7780e-02, -9.8709e-02, -1.1537e-01, -4.9683e-03,\n",
              "           1.1377e-01,  1.0377e-01, -1.4671e-01, -7.8028e-02,  1.0806e-02,\n",
              "          -1.0771e-01, -6.1861e-02,  1.3530e-02,  1.1200e-01, -2.6573e-02,\n",
              "           9.2788e-02, -1.2595e-01,  9.4459e-02,  3.8512e-02, -9.7349e-02,\n",
              "          -6.3921e-02,  5.7386e-02,  8.0316e-03, -1.4670e-01,  4.0691e-02,\n",
              "          -1.3330e-01,  1.0415e-02, -1.2488e-01, -1.1648e-01,  1.2765e-01,\n",
              "           8.8992e-02,  4.6404e-02,  6.5230e-02, -9.7162e-02, -9.0758e-02,\n",
              "           1.1247e-01,  1.3130e-01,  7.1708e-02, -1.1018e-01, -6.7901e-02,\n",
              "          -1.0553e-01, -1.3415e-01, -4.0506e-02,  3.0502e-02, -1.1639e-01],\n",
              "         [-9.4044e-02, -6.6801e-02, -1.1110e-01,  1.2154e-01,  9.1418e-02,\n",
              "           1.4431e-01, -1.4840e-01,  1.0775e-01,  1.0843e-01, -1.3786e-01,\n",
              "           5.8585e-02,  1.4546e-01,  2.9978e-02,  9.5943e-02, -7.5674e-02,\n",
              "          -1.1118e-01,  1.4080e-01, -1.1074e-02,  1.4804e-01,  5.9599e-02,\n",
              "           3.0615e-02,  8.1465e-02,  4.4593e-02, -3.4021e-02, -9.8953e-02,\n",
              "           6.4344e-03, -1.1768e-01,  1.4770e-01,  1.0455e-01,  1.0513e-01,\n",
              "           5.0817e-03, -6.5423e-02,  8.6017e-02, -4.4362e-02, -7.7575e-02,\n",
              "          -4.0642e-05, -2.3299e-03, -1.0751e-01,  1.1148e-01,  1.1771e-01,\n",
              "          -1.1628e-01, -1.3960e-01, -4.0224e-02,  1.0932e-01, -5.6734e-02],\n",
              "         [ 1.2445e-01, -1.4400e-01, -1.1420e-01, -9.3247e-02,  9.9224e-02,\n",
              "           1.3850e-01, -1.8013e-02,  3.6032e-02, -8.6685e-02, -1.2678e-01,\n",
              "           6.3404e-02,  1.2135e-01, -6.5436e-02, -3.1436e-02, -6.4199e-02,\n",
              "           1.1647e-01,  8.5417e-02, -5.1917e-02, -1.0566e-01,  1.2903e-01,\n",
              "          -1.1469e-01,  4.7177e-02, -2.3853e-02, -1.0208e-01,  2.2580e-02,\n",
              "           4.0589e-02, -1.4397e-01,  1.4574e-01, -1.3561e-01, -8.7079e-02,\n",
              "           1.2450e-01, -1.3602e-01,  1.2721e-01,  1.4439e-01, -6.9540e-02,\n",
              "          -2.2441e-03, -1.3700e-01,  5.9687e-02,  1.0855e-01,  4.3975e-02,\n",
              "           9.8546e-02, -1.4074e-01, -1.0566e-01, -2.5638e-02, -1.0023e-01],\n",
              "         [ 7.5537e-02,  6.2933e-02, -1.3909e-01,  7.1654e-02,  2.2995e-02,\n",
              "          -1.3226e-01,  1.1038e-01,  9.3151e-02, -4.2775e-02, -7.3433e-02,\n",
              "          -5.8228e-02, -8.2540e-02, -2.3477e-02, -1.0644e-01,  9.7917e-02,\n",
              "           1.1144e-03, -4.8521e-02,  4.7494e-02, -2.6159e-02,  1.2816e-01,\n",
              "           5.4998e-02,  1.0976e-01,  9.9276e-02,  1.0772e-01, -6.9500e-02,\n",
              "           4.7071e-03, -7.4782e-02, -1.3759e-01,  1.4835e-01,  1.0379e-01,\n",
              "          -3.0978e-03, -7.5696e-02, -1.4418e-01, -2.9252e-02,  1.1870e-01,\n",
              "           3.0147e-02, -2.6763e-02, -1.4889e-01, -5.9694e-02, -7.7628e-02,\n",
              "          -1.0156e-01, -1.2890e-01,  2.8587e-02,  3.7224e-03, -5.3198e-03],\n",
              "         [-6.9868e-02, -1.0619e-01, -1.0842e-01, -1.9818e-02,  1.0056e-01,\n",
              "          -2.2786e-02,  8.9768e-02,  1.3816e-01,  1.1893e-01,  3.6151e-02,\n",
              "          -1.4040e-01, -4.8230e-02,  1.0580e-01,  9.9528e-02, -1.2226e-01,\n",
              "           2.5510e-02,  1.2499e-01,  1.4172e-01,  3.7361e-02, -3.1362e-02,\n",
              "          -1.3145e-02, -1.4878e-01,  5.1304e-02,  5.2410e-03, -5.6165e-03,\n",
              "           8.0057e-02,  1.1714e-02,  2.9944e-02, -1.0772e-01,  9.4283e-02,\n",
              "          -4.0249e-02,  1.0733e-01, -3.3959e-02, -1.3375e-01,  5.8195e-02,\n",
              "          -1.4654e-01, -1.0855e-01, -8.4897e-02, -3.0641e-02, -7.2518e-02,\n",
              "          -1.4005e-01, -1.1479e-01, -1.2231e-01, -1.4321e-02,  4.6429e-02],\n",
              "         [ 1.4705e-01,  7.5208e-02, -2.4526e-02,  1.3017e-01,  1.1032e-01,\n",
              "          -7.2953e-02, -7.4904e-03, -1.4637e-01, -8.5224e-02,  1.0624e-02,\n",
              "          -6.8159e-02, -1.3939e-01, -7.2253e-02, -1.4142e-01,  1.2886e-01,\n",
              "           8.2846e-02, -4.2048e-02,  3.2231e-02,  5.5873e-02,  3.9619e-02,\n",
              "           6.7611e-02, -7.8487e-02,  5.2059e-03,  1.7340e-02, -8.9810e-02,\n",
              "          -7.7817e-02, -1.0042e-01, -1.6414e-02,  7.3423e-02,  1.3599e-01,\n",
              "          -5.1699e-02, -1.9323e-02,  1.3750e-01, -1.0199e-01,  4.6691e-02,\n",
              "           6.2854e-02, -5.1136e-02,  7.8660e-02,  1.1185e-01,  9.0675e-03,\n",
              "           6.3656e-02,  3.5650e-02,  1.3205e-01, -1.2793e-01,  2.3797e-02]],\n",
              "        requires_grad=True), Parameter containing:\n",
              " tensor([ 0.0393, -0.0784, -0.1341,  0.0250, -0.1370, -0.1325, -0.1314, -0.1207,\n",
              "          0.0361, -0.0883, -0.0573,  0.0107,  0.0859, -0.0906,  0.0956,  0.0947],\n",
              "        requires_grad=True), Parameter containing:\n",
              " tensor([1., 1., 1., 1., 1., 1., 1., 1., 1., 1., 1., 1., 1., 1., 1., 1.],\n",
              "        requires_grad=True), Parameter containing:\n",
              " tensor([0., 0., 0., 0., 0., 0., 0., 0., 0., 0., 0., 0., 0., 0., 0., 0.],\n",
              "        requires_grad=True), Parameter containing:\n",
              " tensor([[-0.0732,  0.0294, -0.0394, -0.0141, -0.2265, -0.2320,  0.1457, -0.1839,\n",
              "           0.2223, -0.1591,  0.2216,  0.1976,  0.2152,  0.2296,  0.0794, -0.1465],\n",
              "         [ 0.0626, -0.1861, -0.0170,  0.0111,  0.1239, -0.2189, -0.2193,  0.2325,\n",
              "           0.1405,  0.2465, -0.0304, -0.0488,  0.0345, -0.1583,  0.1353,  0.2161],\n",
              "         [-0.2275,  0.1878, -0.0098, -0.1564, -0.1961, -0.1867,  0.2150, -0.0188,\n",
              "           0.0125,  0.0567, -0.0149,  0.1067,  0.0578,  0.1595, -0.1279,  0.2123],\n",
              "         [-0.0154,  0.1882,  0.0468,  0.0053,  0.1855,  0.1499,  0.0927, -0.1686,\n",
              "           0.2350, -0.0744,  0.1892,  0.0272,  0.2124,  0.0410, -0.0519,  0.0009],\n",
              "         [ 0.1842, -0.2419, -0.0933,  0.2129,  0.1009, -0.1762,  0.1786,  0.2002,\n",
              "          -0.1115,  0.2203,  0.2105, -0.2237,  0.1207, -0.0123, -0.1962, -0.2442],\n",
              "         [-0.1467, -0.0797, -0.0416,  0.1604,  0.0974,  0.2193,  0.1453,  0.1860,\n",
              "           0.0648, -0.0244, -0.0270, -0.0756,  0.1657,  0.0396,  0.2175,  0.1960],\n",
              "         [-0.0844, -0.0263, -0.1575,  0.1272,  0.2490,  0.0340,  0.0138, -0.1195,\n",
              "          -0.0123,  0.1750,  0.0049,  0.1438, -0.1519,  0.0975,  0.0212,  0.0224],\n",
              "         [-0.1907, -0.0381,  0.2341, -0.1000,  0.1906, -0.0680,  0.1301,  0.1749,\n",
              "          -0.2450,  0.2268,  0.1244, -0.1241,  0.0338, -0.1508,  0.0972, -0.2112]],\n",
              "        requires_grad=True), Parameter containing:\n",
              " tensor([ 0.0372,  0.2088,  0.0205,  0.2365,  0.1201, -0.0385, -0.0867,  0.0907],\n",
              "        requires_grad=True), Parameter containing:\n",
              " tensor([[-0.3049, -0.1475,  0.0410,  0.0489,  0.3169,  0.2505, -0.0946,  0.0234]],\n",
              "        requires_grad=True), Parameter containing:\n",
              " tensor([0.2707], requires_grad=True)]"
            ]
          },
          "metadata": {},
          "execution_count": 126
        }
      ]
    },
    {
      "cell_type": "code",
      "source": [
        "opt = Adam(model.parameters(),lr=0.01)"
      ],
      "metadata": {
        "id": "r0d5getutB3I"
      },
      "execution_count": 127,
      "outputs": []
    },
    {
      "cell_type": "code",
      "source": [
        "device = torch.device(\"cuda\" if torch.cuda.is_available() else \"cpu\")\n",
        "device"
      ],
      "metadata": {
        "colab": {
          "base_uri": "https://localhost:8080/"
        },
        "id": "a2y7-WVrtoOD",
        "outputId": "96c8cf1c-e8ae-4191-b437-0bd794b5d7c3"
      },
      "execution_count": 120,
      "outputs": [
        {
          "output_type": "execute_result",
          "data": {
            "text/plain": [
              "device(type='cuda')"
            ]
          },
          "metadata": {},
          "execution_count": 120
        }
      ]
    },
    {
      "cell_type": "code",
      "source": [
        "model = model.to(device)"
      ],
      "metadata": {
        "id": "Ls0CLRREtaBf"
      },
      "execution_count": 128,
      "outputs": []
    },
    {
      "cell_type": "code",
      "source": [
        "for epoch in range(50):\n",
        "  #forward pass and loss\n",
        "  X_train=X_train.to(device) #batch is a tensor,(not numpy) so can be shifted to gpu\n",
        "  y_train = y_train.to(device)\n",
        "  y_pred = model(X_train)\n",
        "  loss = F.binary_cross_entropy_with_logits(y_pred,y_train)\n",
        "\n",
        "  #backward pass and update\n",
        "  loss.backward()\n",
        "  opt.step()\n",
        "\n",
        "  #zero grad before new grad\n",
        "  opt.zero_grad()\n",
        "\n",
        "  if (epoch+1) % 5 == 0:\n",
        "    print(f\"epoch: {epoch+1}, Training loss: {loss.item():.4f}\")\n",
        "\n",
        "\n",
        "with torch.no_grad():\n",
        "  X_test=X_test.to(device) #batch is a tensor,(not numpy) so can be shifted to gpu\n",
        "  y_test = y_test.to(device)\n",
        "  y_predicted= model(X_test)\n",
        "  y_predicted_cls = y_predicted.round()\n",
        "  acc = y_predicted_cls.eq(y_test).sum() / float(y_test.shape[0])\n",
        "  print(f'accuracy: {acc.item():.4f}')"
      ],
      "metadata": {
        "colab": {
          "base_uri": "https://localhost:8080/"
        },
        "id": "im7qQeiotii9",
        "outputId": "d8be57a2-2fb7-4865-9bfc-585951f84f44"
      },
      "execution_count": 129,
      "outputs": [
        {
          "output_type": "stream",
          "name": "stdout",
          "text": [
            "epoch: 5, Training loss: 0.6764\n",
            "epoch: 10, Training loss: 0.6505\n",
            "epoch: 15, Training loss: 0.6263\n",
            "epoch: 20, Training loss: 0.6160\n",
            "epoch: 25, Training loss: 0.6129\n",
            "epoch: 30, Training loss: 0.6076\n",
            "epoch: 35, Training loss: 0.6041\n",
            "epoch: 40, Training loss: 0.5994\n",
            "epoch: 45, Training loss: 0.5946\n",
            "epoch: 50, Training loss: 0.5859\n",
            "accuracy: 0.5710\n"
          ]
        }
      ]
    },
    {
      "cell_type": "code",
      "source": [],
      "metadata": {
        "id": "AUBoUl3lxnA_"
      },
      "execution_count": null,
      "outputs": []
    }
  ]
}